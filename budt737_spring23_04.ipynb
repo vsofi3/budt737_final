{
  "cells": [
    {
      "cell_type": "code",
      "execution_count": null,
      "metadata": {
        "id": "UJ1M7mdgRynp"
      },
      "outputs": [],
      "source": [
        "# This Python 3 environment comes with many helpful analytics libraries installed\n",
        "# It is defined by the kaggle/python Docker image: https://github.com/kaggle/docker-python\n",
        "# For example, here's several helpful packages to load\n",
        "\n",
        "import numpy as np # linear algebra\n",
        "import pandas as pd # data processing, CSV file I/O (e.g. pd.read_csv)\n",
        "\n",
        "# Input data files are available in the read-only \"../input/\" directory\n",
        "# For example, running this (by clicking run or pressing Shift+Enter) will list all files under the input directory\n",
        "\n",
        "import os\n",
        "for dirname, _, filenames in os.walk('/kaggle/input'):\n",
        "    for filename in filenames:\n",
        "        print(os.path.join(dirname, filename))\n",
        "\n",
        "# You can write up to 20GB to the current directory (/kaggle/working/) that gets preserved as output when you create a version using \"Save & Run All\" \n",
        "# You can also write temporary files to /kaggle/temp/, but they won't be saved outside of the current session"
      ]
    },
    {
      "cell_type": "code",
      "execution_count": null,
      "metadata": {
        "colab": {
          "base_uri": "https://localhost:8080/"
        },
        "id": "jqbwCbF2R_CL",
        "outputId": "b8f229e7-f7c4-47ab-c914-0238b9760b1b"
      },
      "outputs": [
        {
          "output_type": "stream",
          "name": "stdout",
          "text": [
            "Looking in indexes: https://pypi.org/simple, https://us-python.pkg.dev/colab-wheels/public/simple/\n",
            "Requirement already satisfied: Unicode in /usr/local/lib/python3.10/dist-packages (2.9)\n",
            "Looking in indexes: https://pypi.org/simple, https://us-python.pkg.dev/colab-wheels/public/simple/\n",
            "Requirement already satisfied: unidecode in /usr/local/lib/python3.10/dist-packages (1.3.6)\n"
          ]
        }
      ],
      "source": [
        "# we'll use this later for our model\n",
        "!pip install Unicode\n",
        "! pip install unidecode"
      ]
    },
    {
      "cell_type": "code",
      "execution_count": null,
      "metadata": {
        "colab": {
          "base_uri": "https://localhost:8080/"
        },
        "id": "guyLQkWnRynv",
        "outputId": "2126570b-08ce-4f57-cd06-ac6504ab24c9"
      },
      "outputs": [
        {
          "output_type": "stream",
          "name": "stdout",
          "text": [
            "Libraries Imported!\n"
          ]
        }
      ],
      "source": [
        "# for data exploration\n",
        "import pandas as pd\n",
        "import numpy as np\n",
        "import datetime as dt \n",
        "import io\n",
        "import gc\n",
        "\n",
        "# remove warnings \n",
        "import warnings\n",
        "warnings.simplefilter(action='ignore', category=FutureWarning)\n",
        "warnings.filterwarnings(\"ignore\")\n",
        "\n",
        "# for text processing \n",
        "import re\n",
        "import nltk \n",
        "\n",
        "from sklearn import metrics\n",
        "from sklearn.linear_model import LogisticRegression\n",
        "from nltk.corpus import stopwords\n",
        "from sklearn.metrics import accuracy_score\n",
        "from nltk.corpus import wordnet\n",
        "from nltk.tokenize import word_tokenize\n",
        "from nltk.stem import WordNetLemmatizer\n",
        "from sklearn.svm import SVC\n",
        "from nltk.stem import PorterStemmer\n",
        "from sklearn.model_selection import train_test_split\n",
        "from sklearn.feature_extraction.text import TfidfVectorizer, CountVectorizer\n",
        "from sklearn.model_selection import GridSearchCV\n",
        "from sklearn.tree import DecisionTreeClassifier\n",
        "from sklearn.ensemble import RandomForestClassifier\n",
        "from sklearn.naive_bayes import MultinomialNB\n",
        "import string \n",
        "string.punctuation\n",
        "\n",
        "from unidecode import unidecode\n",
        "\n",
        "\n",
        "# plotting tools\n",
        "import matplotlib.pyplot as plt\n",
        "import seaborn as sns\n",
        "import matplotlib.pyplot as plt\n",
        "from sklearn.metrics import confusion_matrix, classification_report\n",
        "%matplotlib inline\n",
        "\n",
        "# to display all columns ana rows\n",
        "pd.set_option('display.max_columns',None)\n",
        "pd.set_option('display.max_rows',None)\n",
        "pd.set_option('display.min_rows',None)\n",
        "pd.set_option('display.expand_frame_repr',True)\n",
        "\n",
        "print('Libraries Imported!')"
      ]
    },
    {
      "cell_type": "code",
      "execution_count": null,
      "metadata": {
        "id": "c8pFemvkRynw",
        "colab": {
          "base_uri": "https://localhost:8080/"
        },
        "outputId": "d3f0639c-b7d5-4776-993d-ab36b7d7f251"
      },
      "outputs": [
        {
          "output_type": "stream",
          "name": "stderr",
          "text": [
            "[nltk_data] Downloading package stopwords to /root/nltk_data...\n",
            "[nltk_data]   Package stopwords is already up-to-date!\n",
            "[nltk_data] Downloading package punkt to /root/nltk_data...\n",
            "[nltk_data]   Package punkt is already up-to-date!\n",
            "[nltk_data] Downloading package wordnet to /root/nltk_data...\n",
            "[nltk_data]   Package wordnet is already up-to-date!\n",
            "[nltk_data] Downloading package omw-1.4 to /root/nltk_data...\n",
            "[nltk_data]   Package omw-1.4 is already up-to-date!\n",
            "[nltk_data] Downloading package averaged_perceptron_tagger to\n",
            "[nltk_data]     /root/nltk_data...\n",
            "[nltk_data]   Package averaged_perceptron_tagger is already up-to-\n",
            "[nltk_data]       date!\n"
          ]
        },
        {
          "output_type": "execute_result",
          "data": {
            "text/plain": [
              "True"
            ]
          },
          "metadata": {},
          "execution_count": 75
        }
      ],
      "source": [
        "import nltk\n",
        "nltk.download('stopwords')\n",
        "nltk.download('punkt')\n",
        "nltk.download('wordnet')\n",
        "nltk.download('omw-1.4')\n",
        "nltk.download('averaged_perceptron_tagger')"
      ]
    },
    {
      "cell_type": "code",
      "execution_count": null,
      "metadata": {
        "id": "MDvlc_0qRynx"
      },
      "outputs": [],
      "source": [
        "# /kaggle/input/nlp-getting-started/train.csv\n",
        "train_df  = pd.read_csv('train.csv')\n",
        "# /kaggle/input/nlp-getting-started/test.csv\n",
        "test_df = pd.read_csv('test.csv')\n",
        "\n",
        "# we'll use this for all of our models"
      ]
    },
    {
      "cell_type": "code",
      "execution_count": null,
      "metadata": {
        "id": "avTksHqBRyny",
        "colab": {
          "base_uri": "https://localhost:8080/"
        },
        "outputId": "4cea86f6-8397-4908-8062-6f803edf8292"
      },
      "outputs": [
        {
          "output_type": "execute_result",
          "data": {
            "text/plain": [
              "46"
            ]
          },
          "metadata": {},
          "execution_count": 77
        }
      ],
      "source": [
        "gc.collect()"
      ]
    },
    {
      "cell_type": "code",
      "execution_count": null,
      "metadata": {
        "id": "5fJvtAJTRyny",
        "colab": {
          "base_uri": "https://localhost:8080/",
          "height": 206
        },
        "outputId": "3ecebe35-c33e-49fd-c869-22583c69a571"
      },
      "outputs": [
        {
          "output_type": "execute_result",
          "data": {
            "text/plain": [
              "   id keyword location                                               text  \\\n",
              "0   1     NaN      NaN  Our Deeds are the Reason of this #earthquake M...   \n",
              "1   4     NaN      NaN             Forest fire near La Ronge Sask. Canada   \n",
              "2   5     NaN      NaN  All residents asked to 'shelter in place' are ...   \n",
              "3   6     NaN      NaN  13,000 people receive #wildfires evacuation or...   \n",
              "4   7     NaN      NaN  Just got sent this photo from Ruby #Alaska as ...   \n",
              "\n",
              "   target  \n",
              "0       1  \n",
              "1       1  \n",
              "2       1  \n",
              "3       1  \n",
              "4       1  "
            ],
            "text/html": [
              "\n",
              "  <div id=\"df-ac6cfe8c-1eae-467e-8f8b-441de1cc9be9\">\n",
              "    <div class=\"colab-df-container\">\n",
              "      <div>\n",
              "<style scoped>\n",
              "    .dataframe tbody tr th:only-of-type {\n",
              "        vertical-align: middle;\n",
              "    }\n",
              "\n",
              "    .dataframe tbody tr th {\n",
              "        vertical-align: top;\n",
              "    }\n",
              "\n",
              "    .dataframe thead th {\n",
              "        text-align: right;\n",
              "    }\n",
              "</style>\n",
              "<table border=\"1\" class=\"dataframe\">\n",
              "  <thead>\n",
              "    <tr style=\"text-align: right;\">\n",
              "      <th></th>\n",
              "      <th>id</th>\n",
              "      <th>keyword</th>\n",
              "      <th>location</th>\n",
              "      <th>text</th>\n",
              "      <th>target</th>\n",
              "    </tr>\n",
              "  </thead>\n",
              "  <tbody>\n",
              "    <tr>\n",
              "      <th>0</th>\n",
              "      <td>1</td>\n",
              "      <td>NaN</td>\n",
              "      <td>NaN</td>\n",
              "      <td>Our Deeds are the Reason of this #earthquake M...</td>\n",
              "      <td>1</td>\n",
              "    </tr>\n",
              "    <tr>\n",
              "      <th>1</th>\n",
              "      <td>4</td>\n",
              "      <td>NaN</td>\n",
              "      <td>NaN</td>\n",
              "      <td>Forest fire near La Ronge Sask. Canada</td>\n",
              "      <td>1</td>\n",
              "    </tr>\n",
              "    <tr>\n",
              "      <th>2</th>\n",
              "      <td>5</td>\n",
              "      <td>NaN</td>\n",
              "      <td>NaN</td>\n",
              "      <td>All residents asked to 'shelter in place' are ...</td>\n",
              "      <td>1</td>\n",
              "    </tr>\n",
              "    <tr>\n",
              "      <th>3</th>\n",
              "      <td>6</td>\n",
              "      <td>NaN</td>\n",
              "      <td>NaN</td>\n",
              "      <td>13,000 people receive #wildfires evacuation or...</td>\n",
              "      <td>1</td>\n",
              "    </tr>\n",
              "    <tr>\n",
              "      <th>4</th>\n",
              "      <td>7</td>\n",
              "      <td>NaN</td>\n",
              "      <td>NaN</td>\n",
              "      <td>Just got sent this photo from Ruby #Alaska as ...</td>\n",
              "      <td>1</td>\n",
              "    </tr>\n",
              "  </tbody>\n",
              "</table>\n",
              "</div>\n",
              "      <button class=\"colab-df-convert\" onclick=\"convertToInteractive('df-ac6cfe8c-1eae-467e-8f8b-441de1cc9be9')\"\n",
              "              title=\"Convert this dataframe to an interactive table.\"\n",
              "              style=\"display:none;\">\n",
              "        \n",
              "  <svg xmlns=\"http://www.w3.org/2000/svg\" height=\"24px\"viewBox=\"0 0 24 24\"\n",
              "       width=\"24px\">\n",
              "    <path d=\"M0 0h24v24H0V0z\" fill=\"none\"/>\n",
              "    <path d=\"M18.56 5.44l.94 2.06.94-2.06 2.06-.94-2.06-.94-.94-2.06-.94 2.06-2.06.94zm-11 1L8.5 8.5l.94-2.06 2.06-.94-2.06-.94L8.5 2.5l-.94 2.06-2.06.94zm10 10l.94 2.06.94-2.06 2.06-.94-2.06-.94-.94-2.06-.94 2.06-2.06.94z\"/><path d=\"M17.41 7.96l-1.37-1.37c-.4-.4-.92-.59-1.43-.59-.52 0-1.04.2-1.43.59L10.3 9.45l-7.72 7.72c-.78.78-.78 2.05 0 2.83L4 21.41c.39.39.9.59 1.41.59.51 0 1.02-.2 1.41-.59l7.78-7.78 2.81-2.81c.8-.78.8-2.07 0-2.86zM5.41 20L4 18.59l7.72-7.72 1.47 1.35L5.41 20z\"/>\n",
              "  </svg>\n",
              "      </button>\n",
              "      \n",
              "  <style>\n",
              "    .colab-df-container {\n",
              "      display:flex;\n",
              "      flex-wrap:wrap;\n",
              "      gap: 12px;\n",
              "    }\n",
              "\n",
              "    .colab-df-convert {\n",
              "      background-color: #E8F0FE;\n",
              "      border: none;\n",
              "      border-radius: 50%;\n",
              "      cursor: pointer;\n",
              "      display: none;\n",
              "      fill: #1967D2;\n",
              "      height: 32px;\n",
              "      padding: 0 0 0 0;\n",
              "      width: 32px;\n",
              "    }\n",
              "\n",
              "    .colab-df-convert:hover {\n",
              "      background-color: #E2EBFA;\n",
              "      box-shadow: 0px 1px 2px rgba(60, 64, 67, 0.3), 0px 1px 3px 1px rgba(60, 64, 67, 0.15);\n",
              "      fill: #174EA6;\n",
              "    }\n",
              "\n",
              "    [theme=dark] .colab-df-convert {\n",
              "      background-color: #3B4455;\n",
              "      fill: #D2E3FC;\n",
              "    }\n",
              "\n",
              "    [theme=dark] .colab-df-convert:hover {\n",
              "      background-color: #434B5C;\n",
              "      box-shadow: 0px 1px 3px 1px rgba(0, 0, 0, 0.15);\n",
              "      filter: drop-shadow(0px 1px 2px rgba(0, 0, 0, 0.3));\n",
              "      fill: #FFFFFF;\n",
              "    }\n",
              "  </style>\n",
              "\n",
              "      <script>\n",
              "        const buttonEl =\n",
              "          document.querySelector('#df-ac6cfe8c-1eae-467e-8f8b-441de1cc9be9 button.colab-df-convert');\n",
              "        buttonEl.style.display =\n",
              "          google.colab.kernel.accessAllowed ? 'block' : 'none';\n",
              "\n",
              "        async function convertToInteractive(key) {\n",
              "          const element = document.querySelector('#df-ac6cfe8c-1eae-467e-8f8b-441de1cc9be9');\n",
              "          const dataTable =\n",
              "            await google.colab.kernel.invokeFunction('convertToInteractive',\n",
              "                                                     [key], {});\n",
              "          if (!dataTable) return;\n",
              "\n",
              "          const docLinkHtml = 'Like what you see? Visit the ' +\n",
              "            '<a target=\"_blank\" href=https://colab.research.google.com/notebooks/data_table.ipynb>data table notebook</a>'\n",
              "            + ' to learn more about interactive tables.';\n",
              "          element.innerHTML = '';\n",
              "          dataTable['output_type'] = 'display_data';\n",
              "          await google.colab.output.renderOutput(dataTable, element);\n",
              "          const docLink = document.createElement('div');\n",
              "          docLink.innerHTML = docLinkHtml;\n",
              "          element.appendChild(docLink);\n",
              "        }\n",
              "      </script>\n",
              "    </div>\n",
              "  </div>\n",
              "  "
            ]
          },
          "metadata": {},
          "execution_count": 78
        }
      ],
      "source": [
        "# let's get the first few lines of the dataset\n",
        "train_df.head()"
      ]
    },
    {
      "cell_type": "code",
      "execution_count": null,
      "metadata": {
        "id": "uZfNxneQRynz",
        "colab": {
          "base_uri": "https://localhost:8080/"
        },
        "outputId": "cd32f72f-6084-4b2f-8eda-f4c397707a33"
      },
      "outputs": [
        {
          "output_type": "stream",
          "name": "stdout",
          "text": [
            "<class 'pandas.core.frame.DataFrame'>\n",
            "RangeIndex: 7613 entries, 0 to 7612\n",
            "Data columns (total 5 columns):\n",
            " #   Column    Non-Null Count  Dtype \n",
            "---  ------    --------------  ----- \n",
            " 0   id        7613 non-null   int64 \n",
            " 1   keyword   7552 non-null   object\n",
            " 2   location  5080 non-null   object\n",
            " 3   text      7613 non-null   object\n",
            " 4   target    7613 non-null   int64 \n",
            "dtypes: int64(2), object(3)\n",
            "memory usage: 297.5+ KB\n"
          ]
        }
      ],
      "source": [
        "# informations about the structure and content of the train data\n",
        "train_df.info()"
      ]
    },
    {
      "cell_type": "code",
      "execution_count": null,
      "metadata": {
        "id": "WXDAy1CrRynz",
        "colab": {
          "base_uri": "https://localhost:8080/"
        },
        "outputId": "794d4c1b-d40e-411f-aac8-f940a1bf8942"
      },
      "outputs": [
        {
          "output_type": "execute_result",
          "data": {
            "text/plain": [
              "id             0\n",
              "keyword       61\n",
              "location    2533\n",
              "text           0\n",
              "target         0\n",
              "dtype: int64"
            ]
          },
          "metadata": {},
          "execution_count": 80
        }
      ],
      "source": [
        "# #Get the number of null values for each column of train dataset\n",
        "train_df.isnull().sum()"
      ]
    },
    {
      "cell_type": "code",
      "source": [
        "#Pie Chart Showing Proportion of 1s and 0s in the Train Dataset \n",
        "\n",
        "import matplotlib.pyplot as plt \n",
        "train_size = len(train_df)\n",
        "train_counts= train_df['target'].value_counts() \n",
        "\n",
        "fig,ax  = plt.subplots(figsize=(10, 5))\n",
        "train_labels = ['0s', '1s']\n",
        "train_sizes = [train_counts[0], train_counts[1]]\n",
        "train_percents = [f'{count/train_size*100:.1f}%' for count in train_sizes]\n",
        "ax.pie(train_sizes, labels=train_labels, autopct='%1.1f%%')\n",
        "ax.set_title('Train Dataset')\n",
        "ax.legend(loc='upper right', labels=train_percents)\n"
      ],
      "metadata": {
        "colab": {
          "base_uri": "https://localhost:8080/",
          "height": 461
        },
        "id": "rXBqVm5Dve1z",
        "outputId": "c04da9d3-9528-41a9-e6f2-e0eb651b9323"
      },
      "execution_count": null,
      "outputs": [
        {
          "output_type": "execute_result",
          "data": {
            "text/plain": [
              "<matplotlib.legend.Legend at 0x7fde117478b0>"
            ]
          },
          "metadata": {},
          "execution_count": 81
        },
        {
          "output_type": "display_data",
          "data": {
            "text/plain": [
              "<Figure size 1000x500 with 1 Axes>"
            ],
            "image/png": "[encoded data removed]"
          },
          "metadata": {}
        }
      ]
    },
    {
      "cell_type": "code",
      "execution_count": null,
      "metadata": {
        "id": "_ut-fNSoRyn0",
        "colab": {
          "base_uri": "https://localhost:8080/",
          "height": 524
        },
        "outputId": "850a82fa-e3c2-4a6d-9b76-c99493628f6e"
      },
      "outputs": [
        {
          "output_type": "stream",
          "name": "stdout",
          "text": [
            "0    4342\n",
            "1    3271\n",
            "Name: target, dtype: int64\n"
          ]
        },
        {
          "output_type": "display_data",
          "data": {
            "text/plain": [
              "<Figure size 640x480 with 1 Axes>"
            ],
            "image/png": "[encoded data removed]"
          },
          "metadata": {}
        }
      ],
      "source": [
        "# Visualization of the frequency distribution of the 'target' variable\n",
        "sns.countplot(x='target', data=train_df)\n",
        "plt.title('Distribution of Data');\n",
        "\n",
        "print(train_df['target'].value_counts())"
      ]
    },
    {
      "cell_type": "code",
      "source": [
        "# Visualization of the distribution of word count\n",
        "train_df['word_count'] = train_df['text'].apply(lambda x: len(str(x).split()))\n",
        "plt.figure(figsize=(10, 6))\n",
        "sns.histplot(data=train_df, x='word_count', hue='target', kde=True)\n",
        "plt.title('Word Count Distribution')\n",
        "plt.xlabel('Word Count')\n",
        "plt.ylabel('Density')\n",
        "plt.show()"
      ],
      "metadata": {
        "colab": {
          "base_uri": "https://localhost:8080/",
          "height": 564
        },
        "id": "YYMJRkv_ztpM",
        "outputId": "7ab717b4-7d77-4312-96c9-731c1f4953da"
      },
      "execution_count": null,
      "outputs": [
        {
          "output_type": "display_data",
          "data": {
            "text/plain": [
              "<Figure size 1000x600 with 1 Axes>"
            ],
            "image/png": "[encoded data removed]"
          },
          "metadata": {}
        }
      ]
    },
    {
      "cell_type": "code",
      "source": [
        "# Visualization of the distribution of tweet length\n",
        "train_df['tweet_length'] = train_df['text'].apply(lambda x: len(str(x)))\n",
        "plt.figure(figsize=(10, 6))\n",
        "sns.boxplot(data=train_df, x='target', y='tweet_length')\n",
        "plt.title('Distribution of Tweet Lengths')\n",
        "plt.xlabel('Target')\n",
        "plt.ylabel('Tweet Length')\n",
        "plt.show()"
      ],
      "metadata": {
        "colab": {
          "base_uri": "https://localhost:8080/",
          "height": 564
        },
        "id": "VbUNgRxiz6Cv",
        "outputId": "6831450d-ded8-4c6d-fc89-3f90ddd147ff"
      },
      "execution_count": null,
      "outputs": [
        {
          "output_type": "display_data",
          "data": {
            "text/plain": [
              "<Figure size 1000x600 with 1 Axes>"
            ],
            "image/png": "[encoded data removed]"
          },
          "metadata": {}
        }
      ]
    },
    {
      "cell_type": "code",
      "execution_count": null,
      "metadata": {
        "id": "-vLTtGYmRyn1",
        "colab": {
          "base_uri": "https://localhost:8080/",
          "height": 206
        },
        "outputId": "d73441d0-1803-48bf-dd2b-2b5522a445fd"
      },
      "outputs": [
        {
          "output_type": "execute_result",
          "data": {
            "text/plain": [
              "   id keyword                                               text  target  \\\n",
              "0   1     NaN  Our Deeds are the Reason of this #earthquake M...       1   \n",
              "1   4     NaN             Forest fire near La Ronge Sask. Canada       1   \n",
              "2   5     NaN  All residents asked to 'shelter in place' are ...       1   \n",
              "3   6     NaN  13,000 people receive #wildfires evacuation or...       1   \n",
              "4   7     NaN  Just got sent this photo from Ruby #Alaska as ...       1   \n",
              "\n",
              "   word_count  tweet_length  \n",
              "0          13            69  \n",
              "1           7            38  \n",
              "2          22           133  \n",
              "3           8            65  \n",
              "4          16            88  "
            ],
            "text/html": [
              "\n",
              "  <div id=\"df-2c5a2465-ac9a-4be5-9b1a-0f192d2e8a23\">\n",
              "    <div class=\"colab-df-container\">\n",
              "      <div>\n",
              "<style scoped>\n",
              "    .dataframe tbody tr th:only-of-type {\n",
              "        vertical-align: middle;\n",
              "    }\n",
              "\n",
              "    .dataframe tbody tr th {\n",
              "        vertical-align: top;\n",
              "    }\n",
              "\n",
              "    .dataframe thead th {\n",
              "        text-align: right;\n",
              "    }\n",
              "</style>\n",
              "<table border=\"1\" class=\"dataframe\">\n",
              "  <thead>\n",
              "    <tr style=\"text-align: right;\">\n",
              "      <th></th>\n",
              "      <th>id</th>\n",
              "      <th>keyword</th>\n",
              "      <th>text</th>\n",
              "      <th>target</th>\n",
              "      <th>word_count</th>\n",
              "      <th>tweet_length</th>\n",
              "    </tr>\n",
              "  </thead>\n",
              "  <tbody>\n",
              "    <tr>\n",
              "      <th>0</th>\n",
              "      <td>1</td>\n",
              "      <td>NaN</td>\n",
              "      <td>Our Deeds are the Reason of this #earthquake M...</td>\n",
              "      <td>1</td>\n",
              "      <td>13</td>\n",
              "      <td>69</td>\n",
              "    </tr>\n",
              "    <tr>\n",
              "      <th>1</th>\n",
              "      <td>4</td>\n",
              "      <td>NaN</td>\n",
              "      <td>Forest fire near La Ronge Sask. Canada</td>\n",
              "      <td>1</td>\n",
              "      <td>7</td>\n",
              "      <td>38</td>\n",
              "    </tr>\n",
              "    <tr>\n",
              "      <th>2</th>\n",
              "      <td>5</td>\n",
              "      <td>NaN</td>\n",
              "      <td>All residents asked to 'shelter in place' are ...</td>\n",
              "      <td>1</td>\n",
              "      <td>22</td>\n",
              "      <td>133</td>\n",
              "    </tr>\n",
              "    <tr>\n",
              "      <th>3</th>\n",
              "      <td>6</td>\n",
              "      <td>NaN</td>\n",
              "      <td>13,000 people receive #wildfires evacuation or...</td>\n",
              "      <td>1</td>\n",
              "      <td>8</td>\n",
              "      <td>65</td>\n",
              "    </tr>\n",
              "    <tr>\n",
              "      <th>4</th>\n",
              "      <td>7</td>\n",
              "      <td>NaN</td>\n",
              "      <td>Just got sent this photo from Ruby #Alaska as ...</td>\n",
              "      <td>1</td>\n",
              "      <td>16</td>\n",
              "      <td>88</td>\n",
              "    </tr>\n",
              "  </tbody>\n",
              "</table>\n",
              "</div>\n",
              "      <button class=\"colab-df-convert\" onclick=\"convertToInteractive('df-2c5a2465-ac9a-4be5-9b1a-0f192d2e8a23')\"\n",
              "              title=\"Convert this dataframe to an interactive table.\"\n",
              "              style=\"display:none;\">\n",
              "        \n",
              "  <svg xmlns=\"http://www.w3.org/2000/svg\" height=\"24px\"viewBox=\"0 0 24 24\"\n",
              "       width=\"24px\">\n",
              "    <path d=\"M0 0h24v24H0V0z\" fill=\"none\"/>\n",
              "    <path d=\"M18.56 5.44l.94 2.06.94-2.06 2.06-.94-2.06-.94-.94-2.06-.94 2.06-2.06.94zm-11 1L8.5 8.5l.94-2.06 2.06-.94-2.06-.94L8.5 2.5l-.94 2.06-2.06.94zm10 10l.94 2.06.94-2.06 2.06-.94-2.06-.94-.94-2.06-.94 2.06-2.06.94z\"/><path d=\"M17.41 7.96l-1.37-1.37c-.4-.4-.92-.59-1.43-.59-.52 0-1.04.2-1.43.59L10.3 9.45l-7.72 7.72c-.78.78-.78 2.05 0 2.83L4 21.41c.39.39.9.59 1.41.59.51 0 1.02-.2 1.41-.59l7.78-7.78 2.81-2.81c.8-.78.8-2.07 0-2.86zM5.41 20L4 18.59l7.72-7.72 1.47 1.35L5.41 20z\"/>\n",
              "  </svg>\n",
              "      </button>\n",
              "      \n",
              "  <style>\n",
              "    .colab-df-container {\n",
              "      display:flex;\n",
              "      flex-wrap:wrap;\n",
              "      gap: 12px;\n",
              "    }\n",
              "\n",
              "    .colab-df-convert {\n",
              "      background-color: #E8F0FE;\n",
              "      border: none;\n",
              "      border-radius: 50%;\n",
              "      cursor: pointer;\n",
              "      display: none;\n",
              "      fill: #1967D2;\n",
              "      height: 32px;\n",
              "      padding: 0 0 0 0;\n",
              "      width: 32px;\n",
              "    }\n",
              "\n",
              "    .colab-df-convert:hover {\n",
              "      background-color: #E2EBFA;\n",
              "      box-shadow: 0px 1px 2px rgba(60, 64, 67, 0.3), 0px 1px 3px 1px rgba(60, 64, 67, 0.15);\n",
              "      fill: #174EA6;\n",
              "    }\n",
              "\n",
              "    [theme=dark] .colab-df-convert {\n",
              "      background-color: #3B4455;\n",
              "      fill: #D2E3FC;\n",
              "    }\n",
              "\n",
              "    [theme=dark] .colab-df-convert:hover {\n",
              "      background-color: #434B5C;\n",
              "      box-shadow: 0px 1px 3px 1px rgba(0, 0, 0, 0.15);\n",
              "      filter: drop-shadow(0px 1px 2px rgba(0, 0, 0, 0.3));\n",
              "      fill: #FFFFFF;\n",
              "    }\n",
              "  </style>\n",
              "\n",
              "      <script>\n",
              "        const buttonEl =\n",
              "          document.querySelector('#df-2c5a2465-ac9a-4be5-9b1a-0f192d2e8a23 button.colab-df-convert');\n",
              "        buttonEl.style.display =\n",
              "          google.colab.kernel.accessAllowed ? 'block' : 'none';\n",
              "\n",
              "        async function convertToInteractive(key) {\n",
              "          const element = document.querySelector('#df-2c5a2465-ac9a-4be5-9b1a-0f192d2e8a23');\n",
              "          const dataTable =\n",
              "            await google.colab.kernel.invokeFunction('convertToInteractive',\n",
              "                                                     [key], {});\n",
              "          if (!dataTable) return;\n",
              "\n",
              "          const docLinkHtml = 'Like what you see? Visit the ' +\n",
              "            '<a target=\"_blank\" href=https://colab.research.google.com/notebooks/data_table.ipynb>data table notebook</a>'\n",
              "            + ' to learn more about interactive tables.';\n",
              "          element.innerHTML = '';\n",
              "          dataTable['output_type'] = 'display_data';\n",
              "          await google.colab.output.renderOutput(dataTable, element);\n",
              "          const docLink = document.createElement('div');\n",
              "          docLink.innerHTML = docLinkHtml;\n",
              "          element.appendChild(docLink);\n",
              "        }\n",
              "      </script>\n",
              "    </div>\n",
              "  </div>\n",
              "  "
            ]
          },
          "metadata": {},
          "execution_count": 85
        }
      ],
      "source": [
        "# we can drop location column as it contains info of location from where tweets were done\n",
        "train_df = train_df.drop(columns = ['location'],axis=1)\n",
        "train_df.head()\n",
        "# print updated (first few lines) of dataset"
      ]
    },
    {
      "cell_type": "code",
      "execution_count": null,
      "metadata": {
        "id": "4-QXmA2vRyn1",
        "colab": {
          "base_uri": "https://localhost:8080/"
        },
        "outputId": "492cc642-69e5-488f-c306-dc5f859a2258"
      },
      "outputs": [
        {
          "output_type": "execute_result",
          "data": {
            "text/plain": [
              "0    4342\n",
              "1    3271\n",
              "Name: target, dtype: int64"
            ]
          },
          "metadata": {},
          "execution_count": 86
        }
      ],
      "source": [
        "# finding count of each category (0 and 1 classification)\n",
        "train_df['target'].value_counts()"
      ]
    },
    {
      "cell_type": "code",
      "execution_count": null,
      "metadata": {
        "id": "Sj5vJehKRyn2"
      },
      "outputs": [],
      "source": [
        "# let's clean up the data with a function to process the input\n",
        "def process_input(var):\n",
        "    \"\"\"\n",
        "    Function for text preprocessing with Poter Stemming.\n",
        "    \"\"\"\n",
        "    sw = set(stopwords.words('english'))\n",
        "    ps = PorterStemmer() \n",
        "\n",
        "    # tokenize the word using nltk  \n",
        "    my_text = nltk.word_tokenize(var)\n",
        "\n",
        "    # remove not english characters, lower case and remove the white space at end \n",
        "    my_text = re.sub('[^A-Za-z0-9]+', \" \", var).lower().strip()\n",
        "\n",
        "    # remove stop words \n",
        "    my_text = [word for word in my_text.split() if word not in sw]\n",
        "\n",
        "    # stemming\n",
        "    my_text = [ps.stem(word) for word in my_text]\n",
        "\n",
        "    # convert back to sentence\n",
        "    my_text = ' '.join(my_text)\n",
        "\n",
        "    return my_text"
      ]
    },
    {
      "cell_type": "code",
      "execution_count": null,
      "metadata": {
        "id": "V_Yww_ZJRyn3"
      },
      "outputs": [],
      "source": [
        "# renassigning that column after processing the text\n",
        "train_df['text'] = train_df['text'].apply(process_input)"
      ]
    },
    {
      "cell_type": "code",
      "execution_count": null,
      "metadata": {
        "id": "J0_LG7TgRyn3",
        "colab": {
          "base_uri": "https://localhost:8080/",
          "height": 206
        },
        "outputId": "ba8877c9-b758-4444-f3f2-62323678c9f2"
      },
      "outputs": [
        {
          "output_type": "execute_result",
          "data": {
            "text/plain": [
              "   id keyword                                               text  target  \\\n",
              "0   1     NaN          deed reason earthquak may allah forgiv us       1   \n",
              "1   4     NaN               forest fire near la rong sask canada       1   \n",
              "2   5     NaN  resid ask shelter place notifi offic evacu she...       1   \n",
              "3   6     NaN  13 000 peopl receiv wildfir evacu order califo...       1   \n",
              "4   7     NaN  got sent photo rubi alaska smoke wildfir pour ...       1   \n",
              "\n",
              "   word_count  tweet_length  \n",
              "0          13            69  \n",
              "1           7            38  \n",
              "2          22           133  \n",
              "3           8            65  \n",
              "4          16            88  "
            ],
            "text/html": [
              "\n",
              "  <div id=\"df-0fe3d6fd-6d4b-4b56-a67f-4cb3f42bcb86\">\n",
              "    <div class=\"colab-df-container\">\n",
              "      <div>\n",
              "<style scoped>\n",
              "    .dataframe tbody tr th:only-of-type {\n",
              "        vertical-align: middle;\n",
              "    }\n",
              "\n",
              "    .dataframe tbody tr th {\n",
              "        vertical-align: top;\n",
              "    }\n",
              "\n",
              "    .dataframe thead th {\n",
              "        text-align: right;\n",
              "    }\n",
              "</style>\n",
              "<table border=\"1\" class=\"dataframe\">\n",
              "  <thead>\n",
              "    <tr style=\"text-align: right;\">\n",
              "      <th></th>\n",
              "      <th>id</th>\n",
              "      <th>keyword</th>\n",
              "      <th>text</th>\n",
              "      <th>target</th>\n",
              "      <th>word_count</th>\n",
              "      <th>tweet_length</th>\n",
              "    </tr>\n",
              "  </thead>\n",
              "  <tbody>\n",
              "    <tr>\n",
              "      <th>0</th>\n",
              "      <td>1</td>\n",
              "      <td>NaN</td>\n",
              "      <td>deed reason earthquak may allah forgiv us</td>\n",
              "      <td>1</td>\n",
              "      <td>13</td>\n",
              "      <td>69</td>\n",
              "    </tr>\n",
              "    <tr>\n",
              "      <th>1</th>\n",
              "      <td>4</td>\n",
              "      <td>NaN</td>\n",
              "      <td>forest fire near la rong sask canada</td>\n",
              "      <td>1</td>\n",
              "      <td>7</td>\n",
              "      <td>38</td>\n",
              "    </tr>\n",
              "    <tr>\n",
              "      <th>2</th>\n",
              "      <td>5</td>\n",
              "      <td>NaN</td>\n",
              "      <td>resid ask shelter place notifi offic evacu she...</td>\n",
              "      <td>1</td>\n",
              "      <td>22</td>\n",
              "      <td>133</td>\n",
              "    </tr>\n",
              "    <tr>\n",
              "      <th>3</th>\n",
              "      <td>6</td>\n",
              "      <td>NaN</td>\n",
              "      <td>13 000 peopl receiv wildfir evacu order califo...</td>\n",
              "      <td>1</td>\n",
              "      <td>8</td>\n",
              "      <td>65</td>\n",
              "    </tr>\n",
              "    <tr>\n",
              "      <th>4</th>\n",
              "      <td>7</td>\n",
              "      <td>NaN</td>\n",
              "      <td>got sent photo rubi alaska smoke wildfir pour ...</td>\n",
              "      <td>1</td>\n",
              "      <td>16</td>\n",
              "      <td>88</td>\n",
              "    </tr>\n",
              "  </tbody>\n",
              "</table>\n",
              "</div>\n",
              "      <button class=\"colab-df-convert\" onclick=\"convertToInteractive('df-0fe3d6fd-6d4b-4b56-a67f-4cb3f42bcb86')\"\n",
              "              title=\"Convert this dataframe to an interactive table.\"\n",
              "              style=\"display:none;\">\n",
              "        \n",
              "  <svg xmlns=\"http://www.w3.org/2000/svg\" height=\"24px\"viewBox=\"0 0 24 24\"\n",
              "       width=\"24px\">\n",
              "    <path d=\"M0 0h24v24H0V0z\" fill=\"none\"/>\n",
              "    <path d=\"M18.56 5.44l.94 2.06.94-2.06 2.06-.94-2.06-.94-.94-2.06-.94 2.06-2.06.94zm-11 1L8.5 8.5l.94-2.06 2.06-.94-2.06-.94L8.5 2.5l-.94 2.06-2.06.94zm10 10l.94 2.06.94-2.06 2.06-.94-2.06-.94-.94-2.06-.94 2.06-2.06.94z\"/><path d=\"M17.41 7.96l-1.37-1.37c-.4-.4-.92-.59-1.43-.59-.52 0-1.04.2-1.43.59L10.3 9.45l-7.72 7.72c-.78.78-.78 2.05 0 2.83L4 21.41c.39.39.9.59 1.41.59.51 0 1.02-.2 1.41-.59l7.78-7.78 2.81-2.81c.8-.78.8-2.07 0-2.86zM5.41 20L4 18.59l7.72-7.72 1.47 1.35L5.41 20z\"/>\n",
              "  </svg>\n",
              "      </button>\n",
              "      \n",
              "  <style>\n",
              "    .colab-df-container {\n",
              "      display:flex;\n",
              "      flex-wrap:wrap;\n",
              "      gap: 12px;\n",
              "    }\n",
              "\n",
              "    .colab-df-convert {\n",
              "      background-color: #E8F0FE;\n",
              "      border: none;\n",
              "      border-radius: 50%;\n",
              "      cursor: pointer;\n",
              "      display: none;\n",
              "      fill: #1967D2;\n",
              "      height: 32px;\n",
              "      padding: 0 0 0 0;\n",
              "      width: 32px;\n",
              "    }\n",
              "\n",
              "    .colab-df-convert:hover {\n",
              "      background-color: #E2EBFA;\n",
              "      box-shadow: 0px 1px 2px rgba(60, 64, 67, 0.3), 0px 1px 3px 1px rgba(60, 64, 67, 0.15);\n",
              "      fill: #174EA6;\n",
              "    }\n",
              "\n",
              "    [theme=dark] .colab-df-convert {\n",
              "      background-color: #3B4455;\n",
              "      fill: #D2E3FC;\n",
              "    }\n",
              "\n",
              "    [theme=dark] .colab-df-convert:hover {\n",
              "      background-color: #434B5C;\n",
              "      box-shadow: 0px 1px 3px 1px rgba(0, 0, 0, 0.15);\n",
              "      filter: drop-shadow(0px 1px 2px rgba(0, 0, 0, 0.3));\n",
              "      fill: #FFFFFF;\n",
              "    }\n",
              "  </style>\n",
              "\n",
              "      <script>\n",
              "        const buttonEl =\n",
              "          document.querySelector('#df-0fe3d6fd-6d4b-4b56-a67f-4cb3f42bcb86 button.colab-df-convert');\n",
              "        buttonEl.style.display =\n",
              "          google.colab.kernel.accessAllowed ? 'block' : 'none';\n",
              "\n",
              "        async function convertToInteractive(key) {\n",
              "          const element = document.querySelector('#df-0fe3d6fd-6d4b-4b56-a67f-4cb3f42bcb86');\n",
              "          const dataTable =\n",
              "            await google.colab.kernel.invokeFunction('convertToInteractive',\n",
              "                                                     [key], {});\n",
              "          if (!dataTable) return;\n",
              "\n",
              "          const docLinkHtml = 'Like what you see? Visit the ' +\n",
              "            '<a target=\"_blank\" href=https://colab.research.google.com/notebooks/data_table.ipynb>data table notebook</a>'\n",
              "            + ' to learn more about interactive tables.';\n",
              "          element.innerHTML = '';\n",
              "          dataTable['output_type'] = 'display_data';\n",
              "          await google.colab.output.renderOutput(dataTable, element);\n",
              "          const docLink = document.createElement('div');\n",
              "          docLink.innerHTML = docLinkHtml;\n",
              "          element.appendChild(docLink);\n",
              "        }\n",
              "      </script>\n",
              "    </div>\n",
              "  </div>\n",
              "  "
            ]
          },
          "metadata": {},
          "execution_count": 89
        }
      ],
      "source": [
        "# let's get the first few lines of code \n",
        "train_df.head()"
      ]
    },
    {
      "cell_type": "code",
      "execution_count": null,
      "metadata": {
        "id": "XI2UhfM0Ryn3",
        "colab": {
          "base_uri": "https://localhost:8080/"
        },
        "outputId": "f0fb3201-c55b-4965-9acd-9dc73575d543"
      },
      "outputs": [
        {
          "output_type": "execute_result",
          "data": {
            "text/plain": [
              "(5100, 83449)"
            ]
          },
          "metadata": {},
          "execution_count": 90
        }
      ],
      "source": [
        "# split data into train and test\n",
        "# test_size=0.33, random_state=42\n",
        "# X_train, X_validate, y_train, y_validate = train_test_split(X, y, test_size=0.33, random_state=42)\n",
        "\n",
        "# added .values\n",
        "y = train_df['target'].values\n",
        "X = train_df.drop('target', axis=1)\n",
        "\n",
        "\n",
        "X_train, X_validate, y_train, y_validate = train_test_split(X, y, test_size=0.33, random_state=42)\n",
        "\n",
        "vectorizer = CountVectorizer(stop_words='english', analyzer='word', ngram_range=(1, 3), max_df=1.0, min_df=1, max_features=None)\n",
        "\n",
        "vectors_train = vectorizer.fit_transform(X_train['text'])\n",
        "\n",
        "vectors_train.shape"
      ]
    },
    {
      "cell_type": "code",
      "execution_count": null,
      "metadata": {
        "id": "a2YqzHduRyn4",
        "colab": {
          "base_uri": "https://localhost:8080/"
        },
        "outputId": "158dbb7b-7584-446d-d8ac-16480b3a3015"
      },
      "outputs": [
        {
          "output_type": "stream",
          "name": "stdout",
          "text": [
            "(5100, 5) (2513, 5)\n",
            "(5100,) (2513,)\n"
          ]
        }
      ],
      "source": [
        "print(X_train.shape, X_validate.shape)\n",
        "print(y_train.shape, y_validate.shape)"
      ]
    },
    {
      "cell_type": "markdown",
      "metadata": {
        "id": "KM889GYZRyn4"
      },
      "source": [
        "# Implementing Naive Bayes and Logistic Regression"
      ]
    },
    {
      "cell_type": "code",
      "execution_count": null,
      "metadata": {
        "id": "tBKCHa5oRyn6"
      },
      "outputs": [],
      "source": [
        "# Using LogisticRegression\n",
        "clf = LogisticRegression()\n",
        "clf2 = MultinomialNB(alpha=0.42)"
      ]
    },
    {
      "cell_type": "code",
      "execution_count": null,
      "metadata": {
        "id": "_wiiIu9ZRyn7",
        "colab": {
          "base_uri": "https://localhost:8080/"
        },
        "outputId": "ac0e5ea0-38fd-4d4e-9e34-faf4ba6f6769"
      },
      "outputs": [
        {
          "output_type": "stream",
          "name": "stdout",
          "text": [
            "5100\n"
          ]
        }
      ],
      "source": [
        "# Fit logistic regression\n",
        "#clf.fit(X_train,y_train)\n",
        "# Fit Naive Bayes\n",
        "clf2.fit(vectors_train, y_train)\n",
        "print(len(y_train))"
      ]
    },
    {
      "cell_type": "code",
      "execution_count": null,
      "metadata": {
        "id": "rDONNczBRyn8",
        "colab": {
          "base_uri": "https://localhost:8080/"
        },
        "outputId": "f4a45e7d-aee8-4ba2-a45d-e927d68601ed"
      },
      "outputs": [
        {
          "output_type": "stream",
          "name": "stdout",
          "text": [
            "2513\n"
          ]
        }
      ],
      "source": [
        "# prediction on test data\n",
        "#pred = clf2.predict(X_test)\n",
        "# Get the test vectors\n",
        "vectors_valid = vectorizer.transform(X_validate['text'])\n",
        "\n",
        "# Predict and score the vectors\n",
        "pred = clf2.predict(vectors_valid)\n",
        "print(len(pred))"
      ]
    },
    {
      "cell_type": "code",
      "execution_count": null,
      "metadata": {
        "id": "b2q4o--zRyn8"
      },
      "outputs": [],
      "source": [
        "# finding score on test data\n",
        "#clf2.score(X_validate,y_validate)"
      ]
    },
    {
      "cell_type": "code",
      "execution_count": null,
      "metadata": {
        "id": "Kuaat0TiRyn8",
        "colab": {
          "base_uri": "https://localhost:8080/"
        },
        "outputId": "fa5242f5-4ea8-4572-e506-99d02583c03a"
      },
      "outputs": [
        {
          "output_type": "stream",
          "name": "stdout",
          "text": [
            "              precision    recall  f1-score   support\n",
            "\n",
            "           0       0.81      0.84      0.82      1446\n",
            "           1       0.77      0.73      0.75      1067\n",
            "\n",
            "    accuracy                           0.79      2513\n",
            "   macro avg       0.79      0.79      0.79      2513\n",
            "weighted avg       0.79      0.79      0.79      2513\n",
            "\n"
          ]
        }
      ],
      "source": [
        "print(classification_report(y_validate, pred))"
      ]
    },
    {
      "cell_type": "code",
      "execution_count": null,
      "metadata": {
        "id": "Mx5-D6rDRyn9",
        "colab": {
          "base_uri": "https://localhost:8080/"
        },
        "outputId": "008aa95d-1089-4932-9889-8950aad1440d"
      },
      "outputs": [
        {
          "output_type": "stream",
          "name": "stdout",
          "text": [
            "Total accuracy classification score: 0.7938718662952646\n",
            "Total F1 classification score: 0.7871990589072285\n",
            "Recall: 0.7263355201499532\n"
          ]
        }
      ],
      "source": [
        "# Finding accuracy score between actual and predicted values\n",
        "\n",
        "acc_score = metrics.accuracy_score(y_validate, pred)\n",
        "f1_score = metrics.f1_score(y_validate, pred, average='macro')\n",
        "recall = metrics.recall_score(y_validate, pred)\n",
        "\n",
        "print('Total accuracy classification score: {}'.format(acc_score))\n",
        "print('Total F1 classification score: {}'.format(f1_score))\n",
        "print(f\"Recall: {recall}\")"
      ]
    },
    {
      "cell_type": "code",
      "execution_count": null,
      "metadata": {
        "id": "vVAXDpHbRyn9",
        "colab": {
          "base_uri": "https://localhost:8080/"
        },
        "outputId": "442b2f6c-ab1f-4e3e-ec07-122f176388fa"
      },
      "outputs": [
        {
          "output_type": "stream",
          "name": "stdout",
          "text": [
            "  (0, 13489)\t1\n",
            "  (0, 13511)\t1\n",
            "  (0, 17805)\t1\n",
            "  (1, 33091)\t1\n",
            "  (1, 64500)\t1\n",
            "  (1, 70083)\t1\n",
            "  (1, 70101)\t1\n",
            "  (2, 28443)\t1\n",
            "  (2, 58410)\t1\n",
            "  (2, 64977)\t1\n",
            "  (2, 69474)\t1\n",
            "  (2, 70692)\t1\n",
            "  (4, 1555)\t1\n",
            "  (4, 15050)\t1\n",
            "  (4, 68945)\t1\n",
            "  (4, 72155)\t1\n",
            "  (4, 76619)\t1\n",
            "  (4, 76634)\t1\n",
            "  (6, 23679)\t2\n",
            "  (6, 45409)\t1\n",
            "  (6, 82836)\t1\n",
            "  (7, 33568)\t1\n",
            "  (8, 32710)\t1\n",
            "  (8, 53080)\t1\n",
            "  (9, 29156)\t1\n",
            "  :\t:\n",
            "  (3257, 23353)\t1\n",
            "  (3257, 74612)\t1\n",
            "  (3257, 83072)\t1\n",
            "  (3259, 5273)\t1\n",
            "  (3259, 34085)\t1\n",
            "  (3259, 45640)\t1\n",
            "  (3259, 58752)\t1\n",
            "  (3259, 70473)\t1\n",
            "  (3260, 14909)\t1\n",
            "  (3260, 14916)\t1\n",
            "  (3260, 31418)\t1\n",
            "  (3260, 31423)\t1\n",
            "  (3260, 35048)\t1\n",
            "  (3260, 46075)\t1\n",
            "  (3261, 35048)\t1\n",
            "  (3261, 39462)\t1\n",
            "  (3261, 39463)\t1\n",
            "  (3261, 55454)\t1\n",
            "  (3261, 55457)\t1\n",
            "  (3261, 55458)\t1\n",
            "  (3261, 80059)\t1\n",
            "  (3261, 80090)\t1\n",
            "  (3261, 80092)\t1\n",
            "  (3262, 57675)\t1\n",
            "  (3262, 83159)\t1\n",
            "Running model on test data\n",
            "3263\n"
          ]
        }
      ],
      "source": [
        "df3 = pd.DataFrame()\n",
        "df3['id'] = test_df['id']\n",
        "vectors_test = vectorizer.transform(test_df['text'])\n",
        "print(vectors_test)\n",
        "df3['target'] = clf2.predict(vectors_test)\n",
        "print('Running model on test data')\n",
        "print(len(df3['target']))"
      ]
    },
    {
      "cell_type": "code",
      "execution_count": null,
      "metadata": {
        "id": "OxVyIID7Ryn9"
      },
      "outputs": [],
      "source": [
        "#df3.to_csv('submissionTest3.csv',index=False)"
      ]
    },
    {
      "cell_type": "code",
      "execution_count": null,
      "metadata": {
        "id": "cEfKJmPqRyn-"
      },
      "outputs": [],
      "source": [
        "#type(X_validate)\n",
        "#y_pred_proba = clf2.predict_proba(X_validate)\n",
        "#print('Predicted probability',y_pred_proba)"
      ]
    },
    {
      "cell_type": "code",
      "execution_count": null,
      "metadata": {
        "id": "HSRdMmGVRyn-",
        "colab": {
          "base_uri": "https://localhost:8080/",
          "height": 505
        },
        "outputId": "17dcb594-13d2-4f70-e703-a9d9dea4088f"
      },
      "outputs": [
        {
          "output_type": "stream",
          "name": "stdout",
          "text": [
            "Confusion matrix Naive Bayes [[1220  226]\n",
            " [ 292  775]]\n"
          ]
        },
        {
          "output_type": "execute_result",
          "data": {
            "text/plain": [
              "Text(50.722222222222214, 0.5, 'True')"
            ]
          },
          "metadata": {},
          "execution_count": 101
        },
        {
          "output_type": "display_data",
          "data": {
            "text/plain": [
              "<Figure size 640x480 with 2 Axes>"
            ],
            "image/png": "[encoded data removed]"
          },
          "metadata": {}
        }
      ],
      "source": [
        "confmat_NB = metrics.confusion_matrix(y_validate, pred)\n",
        "group_names = ['TN','FP','FN','TP']\n",
        "print(\"Confusion matrix Naive Bayes\", confmat_NB)\n",
        "sns.heatmap(confmat_NB, annot=True, cmap='viridis')\n",
        "plt.xlabel('Predicted', fontsize=12)\n",
        "plt.ylabel('True', fontsize=12)"
      ]
    },
    {
      "cell_type": "markdown",
      "metadata": {
        "id": "ORJVpC7aRyn-"
      },
      "source": [
        "# TF-IDF Vectorizer\n",
        "Taking only word count in documents may have certain drawbacks. The presence of frequent word vectors wont be sparse (espicially stopwords), though the word may not be important. Also, rare words look very sparse, hence they are less important. To tackle these problems, we use TF-IDF vectorization."
      ]
    },
    {
      "cell_type": "code",
      "execution_count": null,
      "metadata": {
        "id": "jOcyxx0mRyn_"
      },
      "outputs": [],
      "source": [
        "X_train, X_validate , y_train, y_validate = train_test_split(train_df['text'].values, train_df['target'].values, test_size=0.4285, random_state=42, stratify=train_df['target'].values)\n",
        "# 3263"
      ]
    },
    {
      "cell_type": "code",
      "execution_count": null,
      "metadata": {
        "id": "7T3V-y2URyn_"
      },
      "outputs": [],
      "source": [
        "tfidf_vectorizer = TfidfVectorizer() \n",
        "tfidf_train_vectors = tfidf_vectorizer.fit_transform(X_train)\n",
        "tfidf_test_vectors = tfidf_vectorizer.transform(X_validate)"
      ]
    },
    {
      "cell_type": "code",
      "execution_count": null,
      "metadata": {
        "id": "hAz6VM3eRyn_",
        "colab": {
          "base_uri": "https://localhost:8080/",
          "height": 75
        },
        "outputId": "3c31f11c-0c57-4abd-cbf2-97ef111b4786"
      },
      "outputs": [
        {
          "output_type": "execute_result",
          "data": {
            "text/plain": [
              "LogisticRegression()"
            ],
            "text/html": [
              "<style>#sk-container-id-3 {color: black;background-color: white;}#sk-container-id-3 pre{padding: 0;}#sk-container-id-3 div.sk-toggleable {background-color: white;}#sk-container-id-3 label.sk-toggleable__label {cursor: pointer;display: block;width: 100%;margin-bottom: 0;padding: 0.3em;box-sizing: border-box;text-align: center;}#sk-container-id-3 label.sk-toggleable__label-arrow:before {content: \"▸\";float: left;margin-right: 0.25em;color: #696969;}#sk-container-id-3 label.sk-toggleable__label-arrow:hover:before {color: black;}#sk-container-id-3 div.sk-estimator:hover label.sk-toggleable__label-arrow:before {color: black;}#sk-container-id-3 div.sk-toggleable__content {max-height: 0;max-width: 0;overflow: hidden;text-align: left;background-color: #f0f8ff;}#sk-container-id-3 div.sk-toggleable__content pre {margin: 0.2em;color: black;border-radius: 0.25em;background-color: #f0f8ff;}#sk-container-id-3 input.sk-toggleable__control:checked~div.sk-toggleable__content {max-height: 200px;max-width: 100%;overflow: auto;}#sk-container-id-3 input.sk-toggleable__control:checked~label.sk-toggleable__label-arrow:before {content: \"▾\";}#sk-container-id-3 div.sk-estimator input.sk-toggleable__control:checked~label.sk-toggleable__label {background-color: #d4ebff;}#sk-container-id-3 div.sk-label input.sk-toggleable__control:checked~label.sk-toggleable__label {background-color: #d4ebff;}#sk-container-id-3 input.sk-hidden--visually {border: 0;clip: rect(1px 1px 1px 1px);clip: rect(1px, 1px, 1px, 1px);height: 1px;margin: -1px;overflow: hidden;padding: 0;position: absolute;width: 1px;}#sk-container-id-3 div.sk-estimator {font-family: monospace;background-color: #f0f8ff;border: 1px dotted black;border-radius: 0.25em;box-sizing: border-box;margin-bottom: 0.5em;}#sk-container-id-3 div.sk-estimator:hover {background-color: #d4ebff;}#sk-container-id-3 div.sk-parallel-item::after {content: \"\";width: 100%;border-bottom: 1px solid gray;flex-grow: 1;}#sk-container-id-3 div.sk-label:hover label.sk-toggleable__label {background-color: #d4ebff;}#sk-container-id-3 div.sk-serial::before {content: \"\";position: absolute;border-left: 1px solid gray;box-sizing: border-box;top: 0;bottom: 0;left: 50%;z-index: 0;}#sk-container-id-3 div.sk-serial {display: flex;flex-direction: column;align-items: center;background-color: white;padding-right: 0.2em;padding-left: 0.2em;position: relative;}#sk-container-id-3 div.sk-item {position: relative;z-index: 1;}#sk-container-id-3 div.sk-parallel {display: flex;align-items: stretch;justify-content: center;background-color: white;position: relative;}#sk-container-id-3 div.sk-item::before, #sk-container-id-3 div.sk-parallel-item::before {content: \"\";position: absolute;border-left: 1px solid gray;box-sizing: border-box;top: 0;bottom: 0;left: 50%;z-index: -1;}#sk-container-id-3 div.sk-parallel-item {display: flex;flex-direction: column;z-index: 1;position: relative;background-color: white;}#sk-container-id-3 div.sk-parallel-item:first-child::after {align-self: flex-end;width: 50%;}#sk-container-id-3 div.sk-parallel-item:last-child::after {align-self: flex-start;width: 50%;}#sk-container-id-3 div.sk-parallel-item:only-child::after {width: 0;}#sk-container-id-3 div.sk-dashed-wrapped {border: 1px dashed gray;margin: 0 0.4em 0.5em 0.4em;box-sizing: border-box;padding-bottom: 0.4em;background-color: white;}#sk-container-id-3 div.sk-label label {font-family: monospace;font-weight: bold;display: inline-block;line-height: 1.2em;}#sk-container-id-3 div.sk-label-container {text-align: center;}#sk-container-id-3 div.sk-container {/* jupyter's `normalize.less` sets `[hidden] { display: none; }` but bootstrap.min.css set `[hidden] { display: none !important; }` so we also need the `!important` here to be able to override the default hidden behavior on the sphinx rendered scikit-learn.org. See: https://github.com/scikit-learn/scikit-learn/issues/21755 */display: inline-block !important;position: relative;}#sk-container-id-3 div.sk-text-repr-fallback {display: none;}</style><div id=\"sk-container-id-3\" class=\"sk-top-container\"><div class=\"sk-text-repr-fallback\"><pre>LogisticRegression()</pre><b>In a Jupyter environment, please rerun this cell to show the HTML representation or trust the notebook. <br />On GitHub, the HTML representation is unable to render, please try loading this page with nbviewer.org.</b></div><div class=\"sk-container\" hidden><div class=\"sk-item\"><div class=\"sk-estimator sk-toggleable\"><input class=\"sk-toggleable__control sk-hidden--visually\" id=\"sk-estimator-id-3\" type=\"checkbox\" checked><label for=\"sk-estimator-id-3\" class=\"sk-toggleable__label sk-toggleable__label-arrow\">LogisticRegression</label><div class=\"sk-toggleable__content\"><pre>LogisticRegression()</pre></div></div></div></div></div>"
            ]
          },
          "metadata": {},
          "execution_count": 104
        }
      ],
      "source": [
        "# using logistic regression as the classifier \n",
        "clf4 = LogisticRegression()\n",
        "\n",
        "clf4.fit(tfidf_train_vectors, y_train)"
      ]
    },
    {
      "cell_type": "code",
      "execution_count": null,
      "metadata": {
        "id": "CxEQeKVyRyoA",
        "colab": {
          "base_uri": "https://localhost:8080/"
        },
        "outputId": "34f8a3cf-ad3a-4c63-851f-3c36710c6fc0"
      },
      "outputs": [
        {
          "output_type": "stream",
          "name": "stdout",
          "text": [
            "3263\n"
          ]
        }
      ],
      "source": [
        "y_predV = clf4.predict(tfidf_test_vectors)\n",
        "print(len(y_predV))"
      ]
    },
    {
      "cell_type": "code",
      "execution_count": null,
      "metadata": {
        "id": "Aw9NAD8SRyoA",
        "colab": {
          "base_uri": "https://localhost:8080/"
        },
        "outputId": "4e45fcb4-5718-4f5a-f945-aae15a2d979b"
      },
      "outputs": [
        {
          "output_type": "stream",
          "name": "stdout",
          "text": [
            "              precision    recall  f1-score   support\n",
            "\n",
            "           0       0.80      0.88      0.83      1861\n",
            "           1       0.81      0.70      0.75      1402\n",
            "\n",
            "    accuracy                           0.80      3263\n",
            "   macro avg       0.80      0.79      0.79      3263\n",
            "weighted avg       0.80      0.80      0.80      3263\n",
            "\n"
          ]
        }
      ],
      "source": [
        "print(classification_report(y_validate, y_predV))"
      ]
    },
    {
      "cell_type": "code",
      "source": [
        "confmat_vectorizer = metrics.confusion_matrix(y_validate, y_predV)\n",
        "group_names = ['TN','FP','FN','TP']\n",
        "print(\"Confusion matrix Vectorizer\", confmat_vectorizer)\n",
        "sns.heatmap(confmat_vectorizer, annot=True, cmap='OrRd')\n",
        "plt.xlabel('Predicted', fontsize=12)\n",
        "plt.ylabel('True', fontsize=12)"
      ],
      "metadata": {
        "colab": {
          "base_uri": "https://localhost:8080/",
          "height": 505
        },
        "id": "deQY26wxptyS",
        "outputId": "e6dce32d-1474-4683-896b-3488333dcd01"
      },
      "execution_count": null,
      "outputs": [
        {
          "output_type": "stream",
          "name": "stdout",
          "text": [
            "Confusion matrix Vectorizer [[1629  232]\n",
            " [ 417  985]]\n"
          ]
        },
        {
          "output_type": "execute_result",
          "data": {
            "text/plain": [
              "Text(50.722222222222214, 0.5, 'True')"
            ]
          },
          "metadata": {},
          "execution_count": 107
        },
        {
          "output_type": "display_data",
          "data": {
            "text/plain": [
              "<Figure size 640x480 with 2 Axes>"
            ],
            "image/png": "[encoded data removed]"
          },
          "metadata": {}
        }
      ]
    },
    {
      "cell_type": "code",
      "source": [
        "import matplotlib.pyplot as plt\n",
        "\n",
        "# Calculating the counts for each category in the confusion matrix\n",
        "TN, FP, FN, TP = confmat_vectorizer.ravel()\n",
        "counts = [TN, FP, FN, TP]\n",
        "\n",
        "# Define the labels for the pie chart\n",
        "labels = ['True Negative', 'False Positive', 'False Negative', 'True Positive']\n",
        "\n",
        "# Define colors for the pie slices\n",
        "colors = ['salmon', 'peachpuff', 'darkorange', 'palegreen']\n",
        "\n",
        "# Creating the pie chart\n",
        "plt.figure(figsize=(6, 6))\n",
        "plt.pie(counts, labels=labels, colors=colors, autopct='%1.1f%%', startangle=90)\n",
        "plt.axis('equal')\n",
        "plt.title('Predicted vs. True')\n",
        "\n",
        "# Displaying the pie chart\n",
        "plt.show()\n"
      ],
      "metadata": {
        "colab": {
          "base_uri": "https://localhost:8080/",
          "height": 524
        },
        "id": "97IPfoz0gcEg",
        "outputId": "a118e042-c556-40ba-802d-9d99689da8aa"
      },
      "execution_count": null,
      "outputs": [
        {
          "output_type": "display_data",
          "data": {
            "text/plain": [
              "<Figure size 600x600 with 1 Axes>"
            ],
            "image/png": "[encoded data removed]"
          },
          "metadata": {}
        }
      ]
    },
    {
      "cell_type": "markdown",
      "metadata": {
        "id": "q_4l0nW5RyoA"
      },
      "source": [
        "# Applying Decision Tree "
      ]
    },
    {
      "cell_type": "code",
      "execution_count": null,
      "metadata": {
        "id": "aCRbXuxnRyoB"
      },
      "outputs": [],
      "source": [
        "from sklearn import tree\n",
        "# creating a decision tree object \n",
        "dt = tree.DecisionTreeClassifier()"
      ]
    },
    {
      "cell_type": "code",
      "execution_count": null,
      "metadata": {
        "id": "BkUjV4WjRyoB"
      },
      "outputs": [],
      "source": [
        "dt = DecisionTreeClassifier(max_depth = 60)\n",
        "# para={'max_depth':range(1,100)}\n",
        "# gv=GridSearchCV(dt,param_grid=para,cv=5)\n",
        "modelDTree = dt.fit(tfidf_train_vectors, y_train)"
      ]
    },
    {
      "cell_type": "code",
      "execution_count": null,
      "metadata": {
        "id": "JdAfEguERyoB",
        "colab": {
          "base_uri": "https://localhost:8080/"
        },
        "outputId": "f855f5e4-8050-4c85-d229-440ad727667d"
      },
      "outputs": [
        {
          "output_type": "execute_result",
          "data": {
            "text/plain": [
              "0.9006896551724138"
            ]
          },
          "metadata": {},
          "execution_count": 111
        }
      ],
      "source": [
        "# let's print the decision tree score using the corresponding function\n",
        "modelDTree.score(tfidf_train_vectors, y_train)"
      ]
    },
    {
      "cell_type": "code",
      "execution_count": null,
      "metadata": {
        "id": "C_9Wwxm1RyoB",
        "colab": {
          "base_uri": "https://localhost:8080/"
        },
        "outputId": "f4f3f5c9-717c-4186-a38f-1f46f0f9546f"
      },
      "outputs": [
        {
          "output_type": "stream",
          "name": "stdout",
          "text": [
            "3263\n"
          ]
        }
      ],
      "source": [
        "y_predDT = modelDTree.predict(tfidf_test_vectors)\n",
        "print(len(y_predDT))\n",
        "# make sure it fits the size of the submission "
      ]
    },
    {
      "cell_type": "code",
      "execution_count": null,
      "metadata": {
        "id": "ljACi7-jRyoC",
        "colab": {
          "base_uri": "https://localhost:8080/"
        },
        "outputId": "c662271a-02c3-4b47-f6e6-0a7e2357ffce"
      },
      "outputs": [
        {
          "output_type": "stream",
          "name": "stdout",
          "text": [
            "              precision    recall  f1-score   support\n",
            "\n",
            "           0       0.87      0.73      0.79      2207\n",
            "           1       0.57      0.76      0.66      1056\n",
            "\n",
            "    accuracy                           0.74      3263\n",
            "   macro avg       0.72      0.75      0.72      3263\n",
            "weighted avg       0.77      0.74      0.75      3263\n",
            "\n"
          ]
        }
      ],
      "source": [
        "print(classification_report(y_predDT, y_validate))"
      ]
    },
    {
      "cell_type": "code",
      "execution_count": null,
      "metadata": {
        "id": "LgbXsJGQRyoM",
        "colab": {
          "base_uri": "https://localhost:8080/"
        },
        "outputId": "c7f762b3-5377-4f5d-9f47-78dfe41f3111"
      },
      "outputs": [
        {
          "output_type": "stream",
          "name": "stdout",
          "text": [
            "  (0, 13489)\t1\n",
            "  (0, 13511)\t1\n",
            "  (0, 17805)\t1\n",
            "  (1, 33091)\t1\n",
            "  (1, 64500)\t1\n",
            "  (1, 70083)\t1\n",
            "  (1, 70101)\t1\n",
            "  (2, 28443)\t1\n",
            "  (2, 58410)\t1\n",
            "  (2, 64977)\t1\n",
            "  (2, 69474)\t1\n",
            "  (2, 70692)\t1\n",
            "  (4, 1555)\t1\n",
            "  (4, 15050)\t1\n",
            "  (4, 68945)\t1\n",
            "  (4, 72155)\t1\n",
            "  (4, 76619)\t1\n",
            "  (4, 76634)\t1\n",
            "  (6, 23679)\t2\n",
            "  (6, 45409)\t1\n",
            "  (6, 82836)\t1\n",
            "  (7, 33568)\t1\n",
            "  (8, 32710)\t1\n",
            "  (8, 53080)\t1\n",
            "  (9, 29156)\t1\n",
            "  :\t:\n",
            "  (3257, 23353)\t1\n",
            "  (3257, 74612)\t1\n",
            "  (3257, 83072)\t1\n",
            "  (3259, 5273)\t1\n",
            "  (3259, 34085)\t1\n",
            "  (3259, 45640)\t1\n",
            "  (3259, 58752)\t1\n",
            "  (3259, 70473)\t1\n",
            "  (3260, 14909)\t1\n",
            "  (3260, 14916)\t1\n",
            "  (3260, 31418)\t1\n",
            "  (3260, 31423)\t1\n",
            "  (3260, 35048)\t1\n",
            "  (3260, 46075)\t1\n",
            "  (3261, 35048)\t1\n",
            "  (3261, 39462)\t1\n",
            "  (3261, 39463)\t1\n",
            "  (3261, 55454)\t1\n",
            "  (3261, 55457)\t1\n",
            "  (3261, 55458)\t1\n",
            "  (3261, 80059)\t1\n",
            "  (3261, 80090)\t1\n",
            "  (3261, 80092)\t1\n",
            "  (3262, 57675)\t1\n",
            "  (3262, 83159)\t1\n",
            "Running model on test data\n",
            "3263\n"
          ]
        }
      ],
      "source": [
        "df_tester = pd.DataFrame()\n",
        "df_tester['id'] = test_df['id']\n",
        "vectors_test = vectorizer.transform(test_df['text'])\n",
        "print(vectors_test)\n",
        "\n",
        "df_tester['target'] = y_predDT\n",
        "print('Running model on test data')\n",
        "print(len(df_tester['target']))"
      ]
    },
    {
      "cell_type": "code",
      "source": [
        "print(y_validate.shape, y_predDT.shape)"
      ],
      "metadata": {
        "colab": {
          "base_uri": "https://localhost:8080/"
        },
        "id": "PDn-HBWPvEwr",
        "outputId": "f194a07b-23a9-4505-daad-db2201f015c1"
      },
      "execution_count": null,
      "outputs": [
        {
          "output_type": "stream",
          "name": "stdout",
          "text": [
            "(3263,) (3263,)\n"
          ]
        }
      ]
    },
    {
      "cell_type": "code",
      "source": [
        "confmat_Dtree = metrics.confusion_matrix(y_validate, y_predDT)\n",
        "group_names = ['TN','FP','FN','TP']\n",
        "print(\"Confusion matrix Decision Tree\", confmat_Dtree)\n",
        "sns.heatmap(confmat_Dtree, annot=True, cmap='Greens_r')\n",
        "plt.xlabel('Predicted', fontsize=12)\n",
        "plt.ylabel('True', fontsize=12)"
      ],
      "metadata": {
        "colab": {
          "base_uri": "https://localhost:8080/",
          "height": 508
        },
        "id": "gDnBFEn3q2kN",
        "outputId": "ce441237-fc5c-4bd5-d8cb-ac06e75cea71"
      },
      "execution_count": null,
      "outputs": [
        {
          "output_type": "stream",
          "name": "stdout",
          "text": [
            "Confusion matrix Decision Tree [[1611  250]\n",
            " [ 596  806]]\n"
          ]
        },
        {
          "output_type": "execute_result",
          "data": {
            "text/plain": [
              "Text(50.722222222222214, 0.5, 'True')"
            ]
          },
          "metadata": {},
          "execution_count": 116
        },
        {
          "output_type": "display_data",
          "data": {
            "text/plain": [
              "<Figure size 640x480 with 2 Axes>"
            ],
            "image/png": "[encoded data removed]"
          },
          "metadata": {}
        }
      ]
    },
    {
      "cell_type": "code",
      "execution_count": null,
      "metadata": {
        "id": "GdeAGa-DRyoN"
      },
      "outputs": [],
      "source": [
        "#df.to_csv('submissionDtree2.csv',index=False)"
      ]
    },
    {
      "cell_type": "markdown",
      "metadata": {
        "id": "kd2If79uRyoN"
      },
      "source": [
        "# Transformers Model"
      ]
    },
    {
      "cell_type": "markdown",
      "metadata": {
        "id": "eValTMVLRyoN"
      },
      "source": [
        "Supervised machine learning algorithm typically used for classification tasks. We want to try to implement an svc model because they work well with unstructured and semi-structured data like text and images whereas logistic regression works with already classified or separated independent variables. SVC models use a subset of the training data in the decision function, called support vectors."
      ]
    },
    {
      "cell_type": "markdown",
      "source": [
        "We'll need to install the sentence transformers using pip"
      ],
      "metadata": {
        "id": "mOq-qi-Brf74"
      }
    },
    {
      "cell_type": "code",
      "execution_count": null,
      "metadata": {
        "id": "1ABnw_NSRyoO",
        "colab": {
          "base_uri": "https://localhost:8080/"
        },
        "outputId": "4eb34afa-3ec7-4d0f-80db-d70ccca29f43"
      },
      "outputs": [
        {
          "output_type": "stream",
          "name": "stdout",
          "text": [
            "Looking in indexes: https://pypi.org/simple, https://us-python.pkg.dev/colab-wheels/public/simple/\n",
            "Requirement already satisfied: sentence-transformers in /usr/local/lib/python3.10/dist-packages (2.2.2)\n",
            "Requirement already satisfied: transformers<5.0.0,>=4.6.0 in /usr/local/lib/python3.10/dist-packages (from sentence-transformers) (4.29.2)\n",
            "Requirement already satisfied: tqdm in /usr/local/lib/python3.10/dist-packages (from sentence-transformers) (4.65.0)\n",
            "Requirement already satisfied: torch>=1.6.0 in /usr/local/lib/python3.10/dist-packages (from sentence-transformers) (2.0.0+cu118)\n",
            "Requirement already satisfied: torchvision in /usr/local/lib/python3.10/dist-packages (from sentence-transformers) (0.15.1+cu118)\n",
            "Requirement already satisfied: numpy in /usr/local/lib/python3.10/dist-packages (from sentence-transformers) (1.22.4)\n",
            "Requirement already satisfied: scikit-learn in /usr/local/lib/python3.10/dist-packages (from sentence-transformers) (1.2.2)\n",
            "Requirement already satisfied: scipy in /usr/local/lib/python3.10/dist-packages (from sentence-transformers) (1.10.1)\n",
            "Requirement already satisfied: nltk in /usr/local/lib/python3.10/dist-packages (from sentence-transformers) (3.8.1)\n",
            "Requirement already satisfied: sentencepiece in /usr/local/lib/python3.10/dist-packages (from sentence-transformers) (0.1.99)\n",
            "Requirement already satisfied: huggingface-hub>=0.4.0 in /usr/local/lib/python3.10/dist-packages (from sentence-transformers) (0.14.1)\n",
            "Requirement already satisfied: filelock in /usr/local/lib/python3.10/dist-packages (from huggingface-hub>=0.4.0->sentence-transformers) (3.12.0)\n",
            "Requirement already satisfied: fsspec in /usr/local/lib/python3.10/dist-packages (from huggingface-hub>=0.4.0->sentence-transformers) (2023.4.0)\n",
            "Requirement already satisfied: requests in /usr/local/lib/python3.10/dist-packages (from huggingface-hub>=0.4.0->sentence-transformers) (2.27.1)\n",
            "Requirement already satisfied: pyyaml>=5.1 in /usr/local/lib/python3.10/dist-packages (from huggingface-hub>=0.4.0->sentence-transformers) (6.0)\n",
            "Requirement already satisfied: typing-extensions>=3.7.4.3 in /usr/local/lib/python3.10/dist-packages (from huggingface-hub>=0.4.0->sentence-transformers) (4.5.0)\n",
            "Requirement already satisfied: packaging>=20.9 in /usr/local/lib/python3.10/dist-packages (from huggingface-hub>=0.4.0->sentence-transformers) (23.1)\n",
            "Requirement already satisfied: sympy in /usr/local/lib/python3.10/dist-packages (from torch>=1.6.0->sentence-transformers) (1.11.1)\n",
            "Requirement already satisfied: networkx in /usr/local/lib/python3.10/dist-packages (from torch>=1.6.0->sentence-transformers) (3.1)\n",
            "Requirement already satisfied: jinja2 in /usr/local/lib/python3.10/dist-packages (from torch>=1.6.0->sentence-transformers) (3.1.2)\n",
            "Requirement already satisfied: triton==2.0.0 in /usr/local/lib/python3.10/dist-packages (from torch>=1.6.0->sentence-transformers) (2.0.0)\n",
            "Requirement already satisfied: cmake in /usr/local/lib/python3.10/dist-packages (from triton==2.0.0->torch>=1.6.0->sentence-transformers) (3.25.2)\n",
            "Requirement already satisfied: lit in /usr/local/lib/python3.10/dist-packages (from triton==2.0.0->torch>=1.6.0->sentence-transformers) (16.0.3)\n",
            "Requirement already satisfied: regex!=2019.12.17 in /usr/local/lib/python3.10/dist-packages (from transformers<5.0.0,>=4.6.0->sentence-transformers) (2022.10.31)\n",
            "Requirement already satisfied: tokenizers!=0.11.3,<0.14,>=0.11.1 in /usr/local/lib/python3.10/dist-packages (from transformers<5.0.0,>=4.6.0->sentence-transformers) (0.13.3)\n",
            "Requirement already satisfied: click in /usr/local/lib/python3.10/dist-packages (from nltk->sentence-transformers) (8.1.3)\n",
            "Requirement already satisfied: joblib in /usr/local/lib/python3.10/dist-packages (from nltk->sentence-transformers) (1.2.0)\n",
            "Requirement already satisfied: threadpoolctl>=2.0.0 in /usr/local/lib/python3.10/dist-packages (from scikit-learn->sentence-transformers) (3.1.0)\n",
            "Requirement already satisfied: pillow!=8.3.*,>=5.3.0 in /usr/local/lib/python3.10/dist-packages (from torchvision->sentence-transformers) (8.4.0)\n",
            "Requirement already satisfied: MarkupSafe>=2.0 in /usr/local/lib/python3.10/dist-packages (from jinja2->torch>=1.6.0->sentence-transformers) (2.1.2)\n",
            "Requirement already satisfied: urllib3<1.27,>=1.21.1 in /usr/local/lib/python3.10/dist-packages (from requests->huggingface-hub>=0.4.0->sentence-transformers) (1.26.15)\n",
            "Requirement already satisfied: certifi>=2017.4.17 in /usr/local/lib/python3.10/dist-packages (from requests->huggingface-hub>=0.4.0->sentence-transformers) (2022.12.7)\n",
            "Requirement already satisfied: charset-normalizer~=2.0.0 in /usr/local/lib/python3.10/dist-packages (from requests->huggingface-hub>=0.4.0->sentence-transformers) (2.0.12)\n",
            "Requirement already satisfied: idna<4,>=2.5 in /usr/local/lib/python3.10/dist-packages (from requests->huggingface-hub>=0.4.0->sentence-transformers) (3.4)\n",
            "Requirement already satisfied: mpmath>=0.19 in /usr/local/lib/python3.10/dist-packages (from sympy->torch>=1.6.0->sentence-transformers) (1.3.0)\n"
          ]
        }
      ],
      "source": [
        "!pip install -U sentence-transformers"
      ]
    },
    {
      "cell_type": "markdown",
      "metadata": {
        "id": "k6UujtC8RyoO"
      },
      "source": [
        "Reference for using transformers: https://huggingface.co/sentence-transformers/all-MiniLM-L12-v2"
      ]
    },
    {
      "cell_type": "markdown",
      "source": [
        "Reference for using support vector classifier: https://scikit-learn.org/stable/modules/generated/sklearn.svm.SVC.html"
      ],
      "metadata": {
        "id": "BgAc-S_El4fZ"
      }
    },
    {
      "cell_type": "markdown",
      "source": [
        "Reference for using support vector classifier: https://www.datatechnotes.com/2020/07/classification-example-with-linearsvm-in-python.html"
      ],
      "metadata": {
        "id": "TOLc6CK7l_MZ"
      }
    },
    {
      "cell_type": "markdown",
      "metadata": {
        "id": "wBHqe3dlS7Kg"
      },
      "source": [
        "Given text as input, it ouptuts a vector which notes the semantic information"
      ]
    },
    {
      "cell_type": "code",
      "execution_count": null,
      "metadata": {
        "id": "ZTEQLnMgRyoO",
        "colab": {
          "base_uri": "https://localhost:8080/"
        },
        "outputId": "e1f963a6-81c2-4615-edac-925e54cd818b"
      },
      "outputs": [
        {
          "output_type": "stream",
          "name": "stdout",
          "text": [
            "SentenceTransformer(\n",
            "  (0): Transformer({'max_seq_length': 128, 'do_lower_case': False}) with Transformer model: BertModel \n",
            "  (1): Pooling({'word_embedding_dimension': 384, 'pooling_mode_cls_token': False, 'pooling_mode_mean_tokens': True, 'pooling_mode_max_tokens': False, 'pooling_mode_mean_sqrt_len_tokens': False})\n",
            "  (2): Normalize()\n",
            ")\n"
          ]
        }
      ],
      "source": [
        "from sentence_transformers import SentenceTransformer\n",
        "modelTransformer = SentenceTransformer('all-MiniLM-L12-v2')\n",
        "print(modelTransformer)\n",
        "# using bert model "
      ]
    },
    {
      "cell_type": "markdown",
      "metadata": {
        "id": "rilws2cnTGow"
      },
      "source": [
        "We can print the model to see its attributes and structure"
      ]
    },
    {
      "cell_type": "code",
      "execution_count": null,
      "metadata": {
        "id": "47CJfeWjRyoO",
        "colab": {
          "base_uri": "https://localhost:8080/",
          "height": 206
        },
        "outputId": "e46d02c3-1ff4-4890-be8d-a1037c2639a8"
      },
      "outputs": [
        {
          "output_type": "execute_result",
          "data": {
            "text/plain": [
              "   id keyword                                               text  target  \\\n",
              "0   1     NaN          deed reason earthquak may allah forgiv us       1   \n",
              "1   4     NaN               forest fire near la rong sask canada       1   \n",
              "2   5     NaN  resid ask shelter place notifi offic evacu she...       1   \n",
              "3   6     NaN  13 000 peopl receiv wildfir evacu order califo...       1   \n",
              "4   7     NaN  got sent photo rubi alaska smoke wildfir pour ...       1   \n",
              "\n",
              "   word_count  tweet_length  \n",
              "0          13            69  \n",
              "1           7            38  \n",
              "2          22           133  \n",
              "3           8            65  \n",
              "4          16            88  "
            ],
            "text/html": [
              "\n",
              "  <div id=\"df-355222bd-8ac6-448b-80a3-5dcfc66152d3\">\n",
              "    <div class=\"colab-df-container\">\n",
              "      <div>\n",
              "<style scoped>\n",
              "    .dataframe tbody tr th:only-of-type {\n",
              "        vertical-align: middle;\n",
              "    }\n",
              "\n",
              "    .dataframe tbody tr th {\n",
              "        vertical-align: top;\n",
              "    }\n",
              "\n",
              "    .dataframe thead th {\n",
              "        text-align: right;\n",
              "    }\n",
              "</style>\n",
              "<table border=\"1\" class=\"dataframe\">\n",
              "  <thead>\n",
              "    <tr style=\"text-align: right;\">\n",
              "      <th></th>\n",
              "      <th>id</th>\n",
              "      <th>keyword</th>\n",
              "      <th>text</th>\n",
              "      <th>target</th>\n",
              "      <th>word_count</th>\n",
              "      <th>tweet_length</th>\n",
              "    </tr>\n",
              "  </thead>\n",
              "  <tbody>\n",
              "    <tr>\n",
              "      <th>0</th>\n",
              "      <td>1</td>\n",
              "      <td>NaN</td>\n",
              "      <td>deed reason earthquak may allah forgiv us</td>\n",
              "      <td>1</td>\n",
              "      <td>13</td>\n",
              "      <td>69</td>\n",
              "    </tr>\n",
              "    <tr>\n",
              "      <th>1</th>\n",
              "      <td>4</td>\n",
              "      <td>NaN</td>\n",
              "      <td>forest fire near la rong sask canada</td>\n",
              "      <td>1</td>\n",
              "      <td>7</td>\n",
              "      <td>38</td>\n",
              "    </tr>\n",
              "    <tr>\n",
              "      <th>2</th>\n",
              "      <td>5</td>\n",
              "      <td>NaN</td>\n",
              "      <td>resid ask shelter place notifi offic evacu she...</td>\n",
              "      <td>1</td>\n",
              "      <td>22</td>\n",
              "      <td>133</td>\n",
              "    </tr>\n",
              "    <tr>\n",
              "      <th>3</th>\n",
              "      <td>6</td>\n",
              "      <td>NaN</td>\n",
              "      <td>13 000 peopl receiv wildfir evacu order califo...</td>\n",
              "      <td>1</td>\n",
              "      <td>8</td>\n",
              "      <td>65</td>\n",
              "    </tr>\n",
              "    <tr>\n",
              "      <th>4</th>\n",
              "      <td>7</td>\n",
              "      <td>NaN</td>\n",
              "      <td>got sent photo rubi alaska smoke wildfir pour ...</td>\n",
              "      <td>1</td>\n",
              "      <td>16</td>\n",
              "      <td>88</td>\n",
              "    </tr>\n",
              "  </tbody>\n",
              "</table>\n",
              "</div>\n",
              "      <button class=\"colab-df-convert\" onclick=\"convertToInteractive('df-355222bd-8ac6-448b-80a3-5dcfc66152d3')\"\n",
              "              title=\"Convert this dataframe to an interactive table.\"\n",
              "              style=\"display:none;\">\n",
              "        \n",
              "  <svg xmlns=\"http://www.w3.org/2000/svg\" height=\"24px\"viewBox=\"0 0 24 24\"\n",
              "       width=\"24px\">\n",
              "    <path d=\"M0 0h24v24H0V0z\" fill=\"none\"/>\n",
              "    <path d=\"M18.56 5.44l.94 2.06.94-2.06 2.06-.94-2.06-.94-.94-2.06-.94 2.06-2.06.94zm-11 1L8.5 8.5l.94-2.06 2.06-.94-2.06-.94L8.5 2.5l-.94 2.06-2.06.94zm10 10l.94 2.06.94-2.06 2.06-.94-2.06-.94-.94-2.06-.94 2.06-2.06.94z\"/><path d=\"M17.41 7.96l-1.37-1.37c-.4-.4-.92-.59-1.43-.59-.52 0-1.04.2-1.43.59L10.3 9.45l-7.72 7.72c-.78.78-.78 2.05 0 2.83L4 21.41c.39.39.9.59 1.41.59.51 0 1.02-.2 1.41-.59l7.78-7.78 2.81-2.81c.8-.78.8-2.07 0-2.86zM5.41 20L4 18.59l7.72-7.72 1.47 1.35L5.41 20z\"/>\n",
              "  </svg>\n",
              "      </button>\n",
              "      \n",
              "  <style>\n",
              "    .colab-df-container {\n",
              "      display:flex;\n",
              "      flex-wrap:wrap;\n",
              "      gap: 12px;\n",
              "    }\n",
              "\n",
              "    .colab-df-convert {\n",
              "      background-color: #E8F0FE;\n",
              "      border: none;\n",
              "      border-radius: 50%;\n",
              "      cursor: pointer;\n",
              "      display: none;\n",
              "      fill: #1967D2;\n",
              "      height: 32px;\n",
              "      padding: 0 0 0 0;\n",
              "      width: 32px;\n",
              "    }\n",
              "\n",
              "    .colab-df-convert:hover {\n",
              "      background-color: #E2EBFA;\n",
              "      box-shadow: 0px 1px 2px rgba(60, 64, 67, 0.3), 0px 1px 3px 1px rgba(60, 64, 67, 0.15);\n",
              "      fill: #174EA6;\n",
              "    }\n",
              "\n",
              "    [theme=dark] .colab-df-convert {\n",
              "      background-color: #3B4455;\n",
              "      fill: #D2E3FC;\n",
              "    }\n",
              "\n",
              "    [theme=dark] .colab-df-convert:hover {\n",
              "      background-color: #434B5C;\n",
              "      box-shadow: 0px 1px 3px 1px rgba(0, 0, 0, 0.15);\n",
              "      filter: drop-shadow(0px 1px 2px rgba(0, 0, 0, 0.3));\n",
              "      fill: #FFFFFF;\n",
              "    }\n",
              "  </style>\n",
              "\n",
              "      <script>\n",
              "        const buttonEl =\n",
              "          document.querySelector('#df-355222bd-8ac6-448b-80a3-5dcfc66152d3 button.colab-df-convert');\n",
              "        buttonEl.style.display =\n",
              "          google.colab.kernel.accessAllowed ? 'block' : 'none';\n",
              "\n",
              "        async function convertToInteractive(key) {\n",
              "          const element = document.querySelector('#df-355222bd-8ac6-448b-80a3-5dcfc66152d3');\n",
              "          const dataTable =\n",
              "            await google.colab.kernel.invokeFunction('convertToInteractive',\n",
              "                                                     [key], {});\n",
              "          if (!dataTable) return;\n",
              "\n",
              "          const docLinkHtml = 'Like what you see? Visit the ' +\n",
              "            '<a target=\"_blank\" href=https://colab.research.google.com/notebooks/data_table.ipynb>data table notebook</a>'\n",
              "            + ' to learn more about interactive tables.';\n",
              "          element.innerHTML = '';\n",
              "          dataTable['output_type'] = 'display_data';\n",
              "          await google.colab.output.renderOutput(dataTable, element);\n",
              "          const docLink = document.createElement('div');\n",
              "          docLink.innerHTML = docLinkHtml;\n",
              "          element.appendChild(docLink);\n",
              "        }\n",
              "      </script>\n",
              "    </div>\n",
              "  </div>\n",
              "  "
            ]
          },
          "metadata": {},
          "execution_count": 120
        }
      ],
      "source": [
        "# double check train_df and test_df\n",
        "train_df.head()"
      ]
    },
    {
      "cell_type": "code",
      "execution_count": null,
      "metadata": {
        "id": "LnY4gcojRyoP",
        "colab": {
          "base_uri": "https://localhost:8080/",
          "height": 206
        },
        "outputId": "c7ae56d2-c159-45eb-a589-3cff9a661622"
      },
      "outputs": [
        {
          "output_type": "execute_result",
          "data": {
            "text/plain": [
              "   id keyword location                                               text\n",
              "0   0     NaN      NaN                 Just happened a terrible car crash\n",
              "1   2     NaN      NaN  Heard about #earthquake is different cities, s...\n",
              "2   3     NaN      NaN  there is a forest fire at spot pond, geese are...\n",
              "3   9     NaN      NaN           Apocalypse lighting. #Spokane #wildfires\n",
              "4  11     NaN      NaN      Typhoon Soudelor kills 28 in China and Taiwan"
            ],
            "text/html": [
              "\n",
              "  <div id=\"df-ff6101a8-eea5-4c8b-892b-7fee425480a1\">\n",
              "    <div class=\"colab-df-container\">\n",
              "      <div>\n",
              "<style scoped>\n",
              "    .dataframe tbody tr th:only-of-type {\n",
              "        vertical-align: middle;\n",
              "    }\n",
              "\n",
              "    .dataframe tbody tr th {\n",
              "        vertical-align: top;\n",
              "    }\n",
              "\n",
              "    .dataframe thead th {\n",
              "        text-align: right;\n",
              "    }\n",
              "</style>\n",
              "<table border=\"1\" class=\"dataframe\">\n",
              "  <thead>\n",
              "    <tr style=\"text-align: right;\">\n",
              "      <th></th>\n",
              "      <th>id</th>\n",
              "      <th>keyword</th>\n",
              "      <th>location</th>\n",
              "      <th>text</th>\n",
              "    </tr>\n",
              "  </thead>\n",
              "  <tbody>\n",
              "    <tr>\n",
              "      <th>0</th>\n",
              "      <td>0</td>\n",
              "      <td>NaN</td>\n",
              "      <td>NaN</td>\n",
              "      <td>Just happened a terrible car crash</td>\n",
              "    </tr>\n",
              "    <tr>\n",
              "      <th>1</th>\n",
              "      <td>2</td>\n",
              "      <td>NaN</td>\n",
              "      <td>NaN</td>\n",
              "      <td>Heard about #earthquake is different cities, s...</td>\n",
              "    </tr>\n",
              "    <tr>\n",
              "      <th>2</th>\n",
              "      <td>3</td>\n",
              "      <td>NaN</td>\n",
              "      <td>NaN</td>\n",
              "      <td>there is a forest fire at spot pond, geese are...</td>\n",
              "    </tr>\n",
              "    <tr>\n",
              "      <th>3</th>\n",
              "      <td>9</td>\n",
              "      <td>NaN</td>\n",
              "      <td>NaN</td>\n",
              "      <td>Apocalypse lighting. #Spokane #wildfires</td>\n",
              "    </tr>\n",
              "    <tr>\n",
              "      <th>4</th>\n",
              "      <td>11</td>\n",
              "      <td>NaN</td>\n",
              "      <td>NaN</td>\n",
              "      <td>Typhoon Soudelor kills 28 in China and Taiwan</td>\n",
              "    </tr>\n",
              "  </tbody>\n",
              "</table>\n",
              "</div>\n",
              "      <button class=\"colab-df-convert\" onclick=\"convertToInteractive('df-ff6101a8-eea5-4c8b-892b-7fee425480a1')\"\n",
              "              title=\"Convert this dataframe to an interactive table.\"\n",
              "              style=\"display:none;\">\n",
              "        \n",
              "  <svg xmlns=\"http://www.w3.org/2000/svg\" height=\"24px\"viewBox=\"0 0 24 24\"\n",
              "       width=\"24px\">\n",
              "    <path d=\"M0 0h24v24H0V0z\" fill=\"none\"/>\n",
              "    <path d=\"M18.56 5.44l.94 2.06.94-2.06 2.06-.94-2.06-.94-.94-2.06-.94 2.06-2.06.94zm-11 1L8.5 8.5l.94-2.06 2.06-.94-2.06-.94L8.5 2.5l-.94 2.06-2.06.94zm10 10l.94 2.06.94-2.06 2.06-.94-2.06-.94-.94-2.06-.94 2.06-2.06.94z\"/><path d=\"M17.41 7.96l-1.37-1.37c-.4-.4-.92-.59-1.43-.59-.52 0-1.04.2-1.43.59L10.3 9.45l-7.72 7.72c-.78.78-.78 2.05 0 2.83L4 21.41c.39.39.9.59 1.41.59.51 0 1.02-.2 1.41-.59l7.78-7.78 2.81-2.81c.8-.78.8-2.07 0-2.86zM5.41 20L4 18.59l7.72-7.72 1.47 1.35L5.41 20z\"/>\n",
              "  </svg>\n",
              "      </button>\n",
              "      \n",
              "  <style>\n",
              "    .colab-df-container {\n",
              "      display:flex;\n",
              "      flex-wrap:wrap;\n",
              "      gap: 12px;\n",
              "    }\n",
              "\n",
              "    .colab-df-convert {\n",
              "      background-color: #E8F0FE;\n",
              "      border: none;\n",
              "      border-radius: 50%;\n",
              "      cursor: pointer;\n",
              "      display: none;\n",
              "      fill: #1967D2;\n",
              "      height: 32px;\n",
              "      padding: 0 0 0 0;\n",
              "      width: 32px;\n",
              "    }\n",
              "\n",
              "    .colab-df-convert:hover {\n",
              "      background-color: #E2EBFA;\n",
              "      box-shadow: 0px 1px 2px rgba(60, 64, 67, 0.3), 0px 1px 3px 1px rgba(60, 64, 67, 0.15);\n",
              "      fill: #174EA6;\n",
              "    }\n",
              "\n",
              "    [theme=dark] .colab-df-convert {\n",
              "      background-color: #3B4455;\n",
              "      fill: #D2E3FC;\n",
              "    }\n",
              "\n",
              "    [theme=dark] .colab-df-convert:hover {\n",
              "      background-color: #434B5C;\n",
              "      box-shadow: 0px 1px 3px 1px rgba(0, 0, 0, 0.15);\n",
              "      filter: drop-shadow(0px 1px 2px rgba(0, 0, 0, 0.3));\n",
              "      fill: #FFFFFF;\n",
              "    }\n",
              "  </style>\n",
              "\n",
              "      <script>\n",
              "        const buttonEl =\n",
              "          document.querySelector('#df-ff6101a8-eea5-4c8b-892b-7fee425480a1 button.colab-df-convert');\n",
              "        buttonEl.style.display =\n",
              "          google.colab.kernel.accessAllowed ? 'block' : 'none';\n",
              "\n",
              "        async function convertToInteractive(key) {\n",
              "          const element = document.querySelector('#df-ff6101a8-eea5-4c8b-892b-7fee425480a1');\n",
              "          const dataTable =\n",
              "            await google.colab.kernel.invokeFunction('convertToInteractive',\n",
              "                                                     [key], {});\n",
              "          if (!dataTable) return;\n",
              "\n",
              "          const docLinkHtml = 'Like what you see? Visit the ' +\n",
              "            '<a target=\"_blank\" href=https://colab.research.google.com/notebooks/data_table.ipynb>data table notebook</a>'\n",
              "            + ' to learn more about interactive tables.';\n",
              "          element.innerHTML = '';\n",
              "          dataTable['output_type'] = 'display_data';\n",
              "          await google.colab.output.renderOutput(dataTable, element);\n",
              "          const docLink = document.createElement('div');\n",
              "          docLink.innerHTML = docLinkHtml;\n",
              "          element.appendChild(docLink);\n",
              "        }\n",
              "      </script>\n",
              "    </div>\n",
              "  </div>\n",
              "  "
            ]
          },
          "metadata": {},
          "execution_count": 121
        }
      ],
      "source": [
        "test_df.head()"
      ]
    },
    {
      "cell_type": "code",
      "execution_count": null,
      "metadata": {
        "id": "a6BHYhB5RyoP"
      },
      "outputs": [],
      "source": [
        "X_train_val = train_df.text.apply(unidecode).to_numpy()\n",
        "X_test = test_df.text.apply(unidecode).to_numpy()\n",
        "\n",
        "y_train_val = train_df.target.to_numpy()"
      ]
    },
    {
      "cell_type": "code",
      "execution_count": null,
      "metadata": {
        "id": "OyBUk65lRyoP"
      },
      "outputs": [],
      "source": [
        "X_trainT, X_valT, y_trainT, y_valT = train_test_split(X_train_val, y_train_val, test_size=0.1, random_state=42)"
      ]
    },
    {
      "cell_type": "code",
      "execution_count": null,
      "metadata": {
        "id": "WZXa5kA9RyoQ",
        "colab": {
          "base_uri": "https://localhost:8080/"
        },
        "outputId": "b3805853-1d5e-4af6-ffdb-10d09001d4f2"
      },
      "outputs": [
        {
          "output_type": "stream",
          "name": "stdout",
          "text": [
            "(6851, 384) (762, 384) (3263, 384)\n",
            "(6851,) (762,)\n"
          ]
        }
      ],
      "source": [
        "# let's encode the training, validation and test data and assign them to corresponding variables\n",
        "X_trainT = modelTransformer.encode(X_trainT)\n",
        "X_valT = modelTransformer.encode(X_valT)\n",
        "X_test = modelTransformer.encode(X_test)\n",
        "\n",
        "print(X_trainT.shape, X_valT.shape, X_test.shape)\n",
        "print(y_trainT.shape, y_valT.shape)"
      ]
    },
    {
      "cell_type": "code",
      "execution_count": null,
      "metadata": {
        "id": "XO--evv_RyoQ",
        "colab": {
          "base_uri": "https://localhost:8080/"
        },
        "outputId": "051faee3-68ea-4a05-f046-9dff1f9b9d20"
      },
      "outputs": [
        {
          "output_type": "stream",
          "name": "stdout",
          "text": [
            "(4350,) (3263,) (3263, 384)\n",
            "(4350,) (3263,)\n"
          ]
        }
      ],
      "source": [
        "print(X_train.shape, X_validate.shape, X_test.shape)\n",
        "print(y_train.shape, y_validate.shape)\n",
        "# make sure the validation shape fits the length of the submission data length"
      ]
    },
    {
      "cell_type": "code",
      "execution_count": null,
      "metadata": {
        "id": "SHUQpA5RRyoQ",
        "colab": {
          "base_uri": "https://localhost:8080/",
          "height": 75
        },
        "outputId": "eef4199b-6fdc-4e37-c2d3-79e7f9ec629a"
      },
      "outputs": [
        {
          "output_type": "execute_result",
          "data": {
            "text/plain": [
              "SVC(C=0.3)"
            ],
            "text/html": [
              "<style>#sk-container-id-4 {color: black;background-color: white;}#sk-container-id-4 pre{padding: 0;}#sk-container-id-4 div.sk-toggleable {background-color: white;}#sk-container-id-4 label.sk-toggleable__label {cursor: pointer;display: block;width: 100%;margin-bottom: 0;padding: 0.3em;box-sizing: border-box;text-align: center;}#sk-container-id-4 label.sk-toggleable__label-arrow:before {content: \"▸\";float: left;margin-right: 0.25em;color: #696969;}#sk-container-id-4 label.sk-toggleable__label-arrow:hover:before {color: black;}#sk-container-id-4 div.sk-estimator:hover label.sk-toggleable__label-arrow:before {color: black;}#sk-container-id-4 div.sk-toggleable__content {max-height: 0;max-width: 0;overflow: hidden;text-align: left;background-color: #f0f8ff;}#sk-container-id-4 div.sk-toggleable__content pre {margin: 0.2em;color: black;border-radius: 0.25em;background-color: #f0f8ff;}#sk-container-id-4 input.sk-toggleable__control:checked~div.sk-toggleable__content {max-height: 200px;max-width: 100%;overflow: auto;}#sk-container-id-4 input.sk-toggleable__control:checked~label.sk-toggleable__label-arrow:before {content: \"▾\";}#sk-container-id-4 div.sk-estimator input.sk-toggleable__control:checked~label.sk-toggleable__label {background-color: #d4ebff;}#sk-container-id-4 div.sk-label input.sk-toggleable__control:checked~label.sk-toggleable__label {background-color: #d4ebff;}#sk-container-id-4 input.sk-hidden--visually {border: 0;clip: rect(1px 1px 1px 1px);clip: rect(1px, 1px, 1px, 1px);height: 1px;margin: -1px;overflow: hidden;padding: 0;position: absolute;width: 1px;}#sk-container-id-4 div.sk-estimator {font-family: monospace;background-color: #f0f8ff;border: 1px dotted black;border-radius: 0.25em;box-sizing: border-box;margin-bottom: 0.5em;}#sk-container-id-4 div.sk-estimator:hover {background-color: #d4ebff;}#sk-container-id-4 div.sk-parallel-item::after {content: \"\";width: 100%;border-bottom: 1px solid gray;flex-grow: 1;}#sk-container-id-4 div.sk-label:hover label.sk-toggleable__label {background-color: #d4ebff;}#sk-container-id-4 div.sk-serial::before {content: \"\";position: absolute;border-left: 1px solid gray;box-sizing: border-box;top: 0;bottom: 0;left: 50%;z-index: 0;}#sk-container-id-4 div.sk-serial {display: flex;flex-direction: column;align-items: center;background-color: white;padding-right: 0.2em;padding-left: 0.2em;position: relative;}#sk-container-id-4 div.sk-item {position: relative;z-index: 1;}#sk-container-id-4 div.sk-parallel {display: flex;align-items: stretch;justify-content: center;background-color: white;position: relative;}#sk-container-id-4 div.sk-item::before, #sk-container-id-4 div.sk-parallel-item::before {content: \"\";position: absolute;border-left: 1px solid gray;box-sizing: border-box;top: 0;bottom: 0;left: 50%;z-index: -1;}#sk-container-id-4 div.sk-parallel-item {display: flex;flex-direction: column;z-index: 1;position: relative;background-color: white;}#sk-container-id-4 div.sk-parallel-item:first-child::after {align-self: flex-end;width: 50%;}#sk-container-id-4 div.sk-parallel-item:last-child::after {align-self: flex-start;width: 50%;}#sk-container-id-4 div.sk-parallel-item:only-child::after {width: 0;}#sk-container-id-4 div.sk-dashed-wrapped {border: 1px dashed gray;margin: 0 0.4em 0.5em 0.4em;box-sizing: border-box;padding-bottom: 0.4em;background-color: white;}#sk-container-id-4 div.sk-label label {font-family: monospace;font-weight: bold;display: inline-block;line-height: 1.2em;}#sk-container-id-4 div.sk-label-container {text-align: center;}#sk-container-id-4 div.sk-container {/* jupyter's `normalize.less` sets `[hidden] { display: none; }` but bootstrap.min.css set `[hidden] { display: none !important; }` so we also need the `!important` here to be able to override the default hidden behavior on the sphinx rendered scikit-learn.org. See: https://github.com/scikit-learn/scikit-learn/issues/21755 */display: inline-block !important;position: relative;}#sk-container-id-4 div.sk-text-repr-fallback {display: none;}</style><div id=\"sk-container-id-4\" class=\"sk-top-container\"><div class=\"sk-text-repr-fallback\"><pre>SVC(C=0.3)</pre><b>In a Jupyter environment, please rerun this cell to show the HTML representation or trust the notebook. <br />On GitHub, the HTML representation is unable to render, please try loading this page with nbviewer.org.</b></div><div class=\"sk-container\" hidden><div class=\"sk-item\"><div class=\"sk-estimator sk-toggleable\"><input class=\"sk-toggleable__control sk-hidden--visually\" id=\"sk-estimator-id-4\" type=\"checkbox\" checked><label for=\"sk-estimator-id-4\" class=\"sk-toggleable__label sk-toggleable__label-arrow\">SVC</label><div class=\"sk-toggleable__content\"><pre>SVC(C=0.3)</pre></div></div></div></div></div>"
            ]
          },
          "metadata": {},
          "execution_count": 126
        }
      ],
      "source": [
        "# add regularization parameter \n",
        "modelTransformer = SVC(C=0.3)\n",
        "modelTransformer.fit(X_trainT, y_trainT)"
      ]
    },
    {
      "cell_type": "code",
      "execution_count": null,
      "metadata": {
        "id": "dtquu9-VRyoR",
        "colab": {
          "base_uri": "https://localhost:8080/"
        },
        "outputId": "a2404cb9-f0d0-496a-a92e-b0c8a59667ca"
      },
      "outputs": [
        {
          "output_type": "stream",
          "name": "stdout",
          "text": [
            "Total accuracy classification score with transformer SVC is: 80.84%\n"
          ]
        }
      ],
      "source": [
        "validation_answer = modelTransformer.predict(X_valT)\n",
        "# printing the transformer accuracy to compare with the other models \n",
        "transformer_accuracy = (100 * accuracy_score(y_valT, validation_answer))\n",
        "\n",
        "print(f\"Total accuracy classification score with transformer SVC is: {transformer_accuracy:.2f}%\")\n",
        "# good to go!"
      ]
    },
    {
      "cell_type": "code",
      "execution_count": null,
      "metadata": {
        "id": "rT4rRmouRyoR"
      },
      "outputs": [],
      "source": [
        "# testing portion\n",
        "test_answerT = modelTransformer.predict(X_test)\n",
        "submission_df = pd.DataFrame({\"id\": test_df.id, \"target\": test_answerT})"
      ]
    },
    {
      "cell_type": "code",
      "execution_count": null,
      "metadata": {
        "id": "tqxLfL0xfQfd"
      },
      "outputs": [],
      "source": [
        "# Finding accuracy score between actual and predicted values\n",
        "\n",
        "# validation_answer or test_answer\n",
        "#acc_scoreT = metrics.accuracy_score(y_validate, test_answer)\n",
        "#f1_scoreT = metrics.f1_score(y_validate, test_answer, average='macro')\n",
        "#recallT = metrics.recall_score(y_validate, test_answer)\n",
        "\n",
        "#print('Total accuracy classification score: {}'.format(acc_scoreT))\n",
        "#print('Total F1 classification score: {}'.format(f1_scoreT))\n",
        "#print(f\"Recall: {recallT}\")"
      ]
    },
    {
      "cell_type": "code",
      "source": [
        "# from predict function\n",
        "print(test_answerT.shape)\n",
        "print(y_validate.shape)\n",
        "print(X_test.shape)\n",
        "# modelTransformer.predict(X_valT)\n",
        "print(validation_answer.shape)\n",
        "# from train test split function\n",
        "print(y_valT.shape)"
      ],
      "metadata": {
        "colab": {
          "base_uri": "https://localhost:8080/"
        },
        "id": "0uHdcclut_tI",
        "outputId": "012f29b6-771e-4e3f-8986-a556c9407293"
      },
      "execution_count": null,
      "outputs": [
        {
          "output_type": "stream",
          "name": "stdout",
          "text": [
            "(3263,)\n",
            "(3263,)\n",
            "(3263, 384)\n",
            "(762,)\n",
            "(762,)\n"
          ]
        }
      ]
    },
    {
      "cell_type": "code",
      "source": [
        "# confusion matrix\n",
        "#confmat_Dtree = metrics.confusion_matrix(y_validate, y_predDT)\n",
        "# X_test\n",
        "confmat_svc = metrics.confusion_matrix(y_valT, validation_answer)\n",
        "group_names = ['TN','FP','FN','TP']\n",
        "print(\"Confusion matrix Transformer\", confmat_svc)\n",
        "sns.heatmap(confmat_svc, annot=True, cmap='PuOr')\n",
        "plt.xlabel('Predicted', fontsize=12)\n",
        "plt.ylabel('True', fontsize=12)"
      ],
      "metadata": {
        "colab": {
          "base_uri": "https://localhost:8080/",
          "height": 505
        },
        "id": "v_dhx6PrrSn6",
        "outputId": "35590c88-5392-4044-d215-51bf435f4cdd"
      },
      "execution_count": null,
      "outputs": [
        {
          "output_type": "stream",
          "name": "stdout",
          "text": [
            "Confusion matrix Transformer [[390  36]\n",
            " [110 226]]\n"
          ]
        },
        {
          "output_type": "execute_result",
          "data": {
            "text/plain": [
              "Text(50.722222222222214, 0.5, 'True')"
            ]
          },
          "metadata": {},
          "execution_count": 141
        },
        {
          "output_type": "display_data",
          "data": {
            "text/plain": [
              "<Figure size 640x480 with 2 Axes>"
            ],
            "image/png": "[encoded data removed]"
          },
          "metadata": {}
        }
      ]
    },
    {
      "cell_type": "code",
      "source": [
        "import matplotlib.pyplot as plt\n",
        "\n",
        "# Calculating the counts for each category in the confusion matrix\n",
        "TN, FP, FN, TP = confmat_svc.ravel()\n",
        "counts = [TN, FP, FN, TP]\n",
        "\n",
        "# Define the labels for the pie chart\n",
        "labels = ['True Negative', 'False Positive', 'False Negative', 'True Positive']\n",
        "\n",
        "# Define colors for the pie slices\n",
        "colors = ['salmon', 'peachpuff', 'darkorange', 'palegreen']\n",
        "\n",
        "# Creating the pie chart\n",
        "plt.figure(figsize=(6, 6))\n",
        "plt.pie(counts, labels=labels, colors=colors, autopct='%1.1f%%', startangle=90)\n",
        "plt.axis('equal')\n",
        "plt.title('Predicted vs. True')\n",
        "\n",
        "# Displaying the pie chart\n",
        "plt.show()\n"
      ],
      "metadata": {
        "id": "P-jFCjvDzTTO",
        "outputId": "d5c14104-0394-48fe-ae39-c4ec186be6e4",
        "colab": {
          "base_uri": "https://localhost:8080/",
          "height": 524
        }
      },
      "execution_count": null,
      "outputs": [
        {
          "output_type": "display_data",
          "data": {
            "text/plain": [
              "<Figure size 600x600 with 1 Axes>"
            ],
            "image/png": "[encoded data removed]"
          },
          "metadata": {}
        }
      ]
    },
    {
      "cell_type": "code",
      "execution_count": null,
      "metadata": {
        "id": "TMkSaCqkRyoR"
      },
      "outputs": [],
      "source": [
        "submission_df.to_csv(\"submission.csv\", index=False)"
      ]
    },
    {
      "cell_type": "markdown",
      "metadata": {
        "id": "F_0kO3p6RyoR"
      },
      "source": [
        "# Running the Model on Test Dataset (using any model)\n"
      ]
    },
    {
      "cell_type": "code",
      "execution_count": null,
      "metadata": {
        "id": "FZm5yccDRyoS",
        "colab": {
          "base_uri": "https://localhost:8080/"
        },
        "outputId": "674ec24f-61b5-42ed-8cb4-896e5e5c4a0b"
      },
      "outputs": [
        {
          "output_type": "stream",
          "name": "stdout",
          "text": [
            "  (0, 13489)\t1\n",
            "  (0, 13511)\t1\n",
            "  (0, 17805)\t1\n",
            "  (1, 33091)\t1\n",
            "  (1, 64500)\t1\n",
            "  (1, 70083)\t1\n",
            "  (1, 70101)\t1\n",
            "  (2, 28443)\t1\n",
            "  (2, 58410)\t1\n",
            "  (2, 64977)\t1\n",
            "  (2, 69474)\t1\n",
            "  (2, 70692)\t1\n",
            "  (4, 1555)\t1\n",
            "  (4, 15050)\t1\n",
            "  (4, 68945)\t1\n",
            "  (4, 72155)\t1\n",
            "  (4, 76619)\t1\n",
            "  (4, 76634)\t1\n",
            "  (6, 23679)\t2\n",
            "  (6, 45409)\t1\n",
            "  (6, 82836)\t1\n",
            "  (7, 33568)\t1\n",
            "  (8, 32710)\t1\n",
            "  (8, 53080)\t1\n",
            "  (9, 29156)\t1\n",
            "  :\t:\n",
            "  (3257, 23353)\t1\n",
            "  (3257, 74612)\t1\n",
            "  (3257, 83072)\t1\n",
            "  (3259, 5273)\t1\n",
            "  (3259, 34085)\t1\n",
            "  (3259, 45640)\t1\n",
            "  (3259, 58752)\t1\n",
            "  (3259, 70473)\t1\n",
            "  (3260, 14909)\t1\n",
            "  (3260, 14916)\t1\n",
            "  (3260, 31418)\t1\n",
            "  (3260, 31423)\t1\n",
            "  (3260, 35048)\t1\n",
            "  (3260, 46075)\t1\n",
            "  (3261, 35048)\t1\n",
            "  (3261, 39462)\t1\n",
            "  (3261, 39463)\t1\n",
            "  (3261, 55454)\t1\n",
            "  (3261, 55457)\t1\n",
            "  (3261, 55458)\t1\n",
            "  (3261, 80059)\t1\n",
            "  (3261, 80090)\t1\n",
            "  (3261, 80092)\t1\n",
            "  (3262, 57675)\t1\n",
            "  (3262, 83159)\t1\n",
            "Running model on test data\n",
            "3263\n"
          ]
        }
      ],
      "source": [
        "# checking score on test data\n",
        "# let's try to use our Naive Bayes classifier to test the data \n",
        "df = pd.DataFrame()\n",
        "df['id'] = test_df['id']\n",
        "vectors_test = vectorizer.transform(test_df['text'])\n",
        "print(vectors_test)\n",
        "df['target'] = clf2.predict(vectors_test)\n",
        "print('Running model on test data')\n",
        "print(len(df['target']))"
      ]
    },
    {
      "cell_type": "code",
      "execution_count": null,
      "metadata": {
        "id": "slnv2qcERyoS",
        "colab": {
          "base_uri": "https://localhost:8080/",
          "height": 206
        },
        "outputId": "b8525de6-9733-4eed-8d28-551ffcf971b6"
      },
      "outputs": [
        {
          "output_type": "execute_result",
          "data": {
            "text/plain": [
              "   id  target\n",
              "0   0       1\n",
              "1   2       0\n",
              "2   3       1\n",
              "3   9       0\n",
              "4  11       1"
            ],
            "text/html": [
              "\n",
              "  <div id=\"df-4acbd219-bbfa-41a1-a826-2ff2e6def1d0\">\n",
              "    <div class=\"colab-df-container\">\n",
              "      <div>\n",
              "<style scoped>\n",
              "    .dataframe tbody tr th:only-of-type {\n",
              "        vertical-align: middle;\n",
              "    }\n",
              "\n",
              "    .dataframe tbody tr th {\n",
              "        vertical-align: top;\n",
              "    }\n",
              "\n",
              "    .dataframe thead th {\n",
              "        text-align: right;\n",
              "    }\n",
              "</style>\n",
              "<table border=\"1\" class=\"dataframe\">\n",
              "  <thead>\n",
              "    <tr style=\"text-align: right;\">\n",
              "      <th></th>\n",
              "      <th>id</th>\n",
              "      <th>target</th>\n",
              "    </tr>\n",
              "  </thead>\n",
              "  <tbody>\n",
              "    <tr>\n",
              "      <th>0</th>\n",
              "      <td>0</td>\n",
              "      <td>1</td>\n",
              "    </tr>\n",
              "    <tr>\n",
              "      <th>1</th>\n",
              "      <td>2</td>\n",
              "      <td>0</td>\n",
              "    </tr>\n",
              "    <tr>\n",
              "      <th>2</th>\n",
              "      <td>3</td>\n",
              "      <td>1</td>\n",
              "    </tr>\n",
              "    <tr>\n",
              "      <th>3</th>\n",
              "      <td>9</td>\n",
              "      <td>0</td>\n",
              "    </tr>\n",
              "    <tr>\n",
              "      <th>4</th>\n",
              "      <td>11</td>\n",
              "      <td>1</td>\n",
              "    </tr>\n",
              "  </tbody>\n",
              "</table>\n",
              "</div>\n",
              "      <button class=\"colab-df-convert\" onclick=\"convertToInteractive('df-4acbd219-bbfa-41a1-a826-2ff2e6def1d0')\"\n",
              "              title=\"Convert this dataframe to an interactive table.\"\n",
              "              style=\"display:none;\">\n",
              "        \n",
              "  <svg xmlns=\"http://www.w3.org/2000/svg\" height=\"24px\"viewBox=\"0 0 24 24\"\n",
              "       width=\"24px\">\n",
              "    <path d=\"M0 0h24v24H0V0z\" fill=\"none\"/>\n",
              "    <path d=\"M18.56 5.44l.94 2.06.94-2.06 2.06-.94-2.06-.94-.94-2.06-.94 2.06-2.06.94zm-11 1L8.5 8.5l.94-2.06 2.06-.94-2.06-.94L8.5 2.5l-.94 2.06-2.06.94zm10 10l.94 2.06.94-2.06 2.06-.94-2.06-.94-.94-2.06-.94 2.06-2.06.94z\"/><path d=\"M17.41 7.96l-1.37-1.37c-.4-.4-.92-.59-1.43-.59-.52 0-1.04.2-1.43.59L10.3 9.45l-7.72 7.72c-.78.78-.78 2.05 0 2.83L4 21.41c.39.39.9.59 1.41.59.51 0 1.02-.2 1.41-.59l7.78-7.78 2.81-2.81c.8-.78.8-2.07 0-2.86zM5.41 20L4 18.59l7.72-7.72 1.47 1.35L5.41 20z\"/>\n",
              "  </svg>\n",
              "      </button>\n",
              "      \n",
              "  <style>\n",
              "    .colab-df-container {\n",
              "      display:flex;\n",
              "      flex-wrap:wrap;\n",
              "      gap: 12px;\n",
              "    }\n",
              "\n",
              "    .colab-df-convert {\n",
              "      background-color: #E8F0FE;\n",
              "      border: none;\n",
              "      border-radius: 50%;\n",
              "      cursor: pointer;\n",
              "      display: none;\n",
              "      fill: #1967D2;\n",
              "      height: 32px;\n",
              "      padding: 0 0 0 0;\n",
              "      width: 32px;\n",
              "    }\n",
              "\n",
              "    .colab-df-convert:hover {\n",
              "      background-color: #E2EBFA;\n",
              "      box-shadow: 0px 1px 2px rgba(60, 64, 67, 0.3), 0px 1px 3px 1px rgba(60, 64, 67, 0.15);\n",
              "      fill: #174EA6;\n",
              "    }\n",
              "\n",
              "    [theme=dark] .colab-df-convert {\n",
              "      background-color: #3B4455;\n",
              "      fill: #D2E3FC;\n",
              "    }\n",
              "\n",
              "    [theme=dark] .colab-df-convert:hover {\n",
              "      background-color: #434B5C;\n",
              "      box-shadow: 0px 1px 3px 1px rgba(0, 0, 0, 0.15);\n",
              "      filter: drop-shadow(0px 1px 2px rgba(0, 0, 0, 0.3));\n",
              "      fill: #FFFFFF;\n",
              "    }\n",
              "  </style>\n",
              "\n",
              "      <script>\n",
              "        const buttonEl =\n",
              "          document.querySelector('#df-4acbd219-bbfa-41a1-a826-2ff2e6def1d0 button.colab-df-convert');\n",
              "        buttonEl.style.display =\n",
              "          google.colab.kernel.accessAllowed ? 'block' : 'none';\n",
              "\n",
              "        async function convertToInteractive(key) {\n",
              "          const element = document.querySelector('#df-4acbd219-bbfa-41a1-a826-2ff2e6def1d0');\n",
              "          const dataTable =\n",
              "            await google.colab.kernel.invokeFunction('convertToInteractive',\n",
              "                                                     [key], {});\n",
              "          if (!dataTable) return;\n",
              "\n",
              "          const docLinkHtml = 'Like what you see? Visit the ' +\n",
              "            '<a target=\"_blank\" href=https://colab.research.google.com/notebooks/data_table.ipynb>data table notebook</a>'\n",
              "            + ' to learn more about interactive tables.';\n",
              "          element.innerHTML = '';\n",
              "          dataTable['output_type'] = 'display_data';\n",
              "          await google.colab.output.renderOutput(dataTable, element);\n",
              "          const docLink = document.createElement('div');\n",
              "          docLink.innerHTML = docLinkHtml;\n",
              "          element.appendChild(docLink);\n",
              "        }\n",
              "      </script>\n",
              "    </div>\n",
              "  </div>\n",
              "  "
            ]
          },
          "metadata": {},
          "execution_count": 135
        }
      ],
      "source": [
        "df.head()"
      ]
    },
    {
      "cell_type": "code",
      "execution_count": null,
      "metadata": {
        "id": "EZAayh7tRyoS",
        "colab": {
          "base_uri": "https://localhost:8080/"
        },
        "outputId": "26851224-a244-477e-d23f-c42a087f3d02"
      },
      "outputs": [
        {
          "output_type": "execute_result",
          "data": {
            "text/plain": [
              "2919"
            ]
          },
          "metadata": {},
          "execution_count": 136
        }
      ],
      "source": [
        "import gc\n",
        "gc.collect()"
      ]
    },
    {
      "cell_type": "markdown",
      "metadata": {
        "id": "umdf_-AcRyoS"
      },
      "source": [
        "# Submiting Results"
      ]
    },
    {
      "cell_type": "code",
      "execution_count": null,
      "metadata": {
        "id": "ZVZfQ-eORyoT"
      },
      "outputs": [],
      "source": [
        "#df.to_csv(\"/content/drive/MyDrive/submission_final.csv\",index=False)"
      ]
    }
  ],
  "metadata": {
    "colab": {
      "provenance": [],
      "gpuType": "T4"
    },
    "kernelspec": {
      "display_name": "Python 3",
      "language": "python",
      "name": "python3"
    },
    "language_info": {
      "codemirror_mode": {
        "name": "ipython",
        "version": 3
      },
      "file_extension": ".py",
      "mimetype": "text/x-python",
      "name": "python",
      "nbconvert_exporter": "python",
      "pygments_lexer": "ipython3",
      "version": "3.7.12"
    },
    "accelerator": "GPU",
    "gpuClass": "standard"
  },
  "nbformat": 4,
  "nbformat_minor": 0
}